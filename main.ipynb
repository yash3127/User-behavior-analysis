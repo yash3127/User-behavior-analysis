{
 "cells": [
  {
   "cell_type": "code",
   "execution_count": 1579,
   "id": "51799ec3d46fca0c",
   "metadata": {
    "ExecuteTime": {
     "end_time": "2023-12-23T20:46:24.670341Z",
     "start_time": "2023-12-23T20:46:23.637238900Z"
    }
   },
   "outputs": [
    {
     "data": {
      "text/plain": "         ip_address                 timestamp method  \\\n0      172.26.3.214 2023-11-06 00:00:02+05:30    GET   \n1      172.26.3.200 2023-11-06 00:00:03+05:30    GET   \n2      172.26.3.200 2023-11-06 00:00:03+05:30    GET   \n3      172.26.3.200 2023-11-06 00:00:04+05:30    GET   \n4      172.26.3.214 2023-11-06 00:01:02+05:30    GET   \n...             ...                       ...    ...   \n38592  172.26.3.214 2023-11-06 23:55:02+05:30    GET   \n38593  172.26.3.214 2023-11-06 23:56:01+05:30    GET   \n38594  172.26.3.214 2023-11-06 23:57:01+05:30    GET   \n38595  172.26.3.214 2023-11-06 23:58:01+05:30    GET   \n38596  172.26.3.214 2023-11-06 23:59:02+05:30    GET   \n\n                                            request_line http_version  \\\n0      /scan_m/cas_userstats/getUserStats.php?sdate=2...     HTTP/1.1   \n1                                                   /rbi     HTTP/1.1   \n2                                                  /rbi/     HTTP/1.1   \n3                                                  /rbi/     HTTP/1.1   \n4      /scan_m/cas_userstats/getUserStats.php?sdate=2...     HTTP/1.1   \n...                                                  ...          ...   \n38592  /scan_m/cas_userstats/getUserStats.php?sdate=2...     HTTP/1.1   \n38593  /scan_m/cas_userstats/getUserStats.php?sdate=2...     HTTP/1.1   \n38594  /scan_m/cas_userstats/getUserStats.php?sdate=2...     HTTP/1.1   \n38595  /scan_m/cas_userstats/getUserStats.php?sdate=2...     HTTP/1.1   \n38596  /scan_m/cas_userstats/getUserStats.php?sdate=2...     HTTP/1.1   \n\n      status_code bytes_transferred referer  \\\n0             200                93       -   \n1             301               248       -   \n2             200              9298       -   \n3             200              9298       -   \n4             200                93       -   \n...           ...               ...     ...   \n38592         200                98       -   \n38593         200                98       -   \n38594         200                98       -   \n38595         200                98       -   \n38596         200                98       -   \n\n                                              user_agent  log_index  \n0      python-requests/2.5.1 CPython/3.8.5 Linux/3.10...          0  \n1                                      Python-urllib/3.7          1  \n2                                      Python-urllib/3.7          2  \n3                                      Python-urllib/3.7          3  \n4      python-requests/2.5.1 CPython/3.8.5 Linux/3.10...          4  \n...                                                  ...        ...  \n38592  python-requests/2.5.1 CPython/3.8.5 Linux/3.10...      38592  \n38593  python-requests/2.5.1 CPython/3.8.5 Linux/3.10...      38593  \n38594  python-requests/2.5.1 CPython/3.8.5 Linux/3.10...      38594  \n38595  python-requests/2.5.1 CPython/3.8.5 Linux/3.10...      38595  \n38596  python-requests/2.5.1 CPython/3.8.5 Linux/3.10...      38596  \n\n[38597 rows x 10 columns]",
      "text/html": "<div>\n<style scoped>\n    .dataframe tbody tr th:only-of-type {\n        vertical-align: middle;\n    }\n\n    .dataframe tbody tr th {\n        vertical-align: top;\n    }\n\n    .dataframe thead th {\n        text-align: right;\n    }\n</style>\n<table border=\"1\" class=\"dataframe\">\n  <thead>\n    <tr style=\"text-align: right;\">\n      <th></th>\n      <th>ip_address</th>\n      <th>timestamp</th>\n      <th>method</th>\n      <th>request_line</th>\n      <th>http_version</th>\n      <th>status_code</th>\n      <th>bytes_transferred</th>\n      <th>referer</th>\n      <th>user_agent</th>\n      <th>log_index</th>\n    </tr>\n  </thead>\n  <tbody>\n    <tr>\n      <th>0</th>\n      <td>172.26.3.214</td>\n      <td>2023-11-06 00:00:02+05:30</td>\n      <td>GET</td>\n      <td>/scan_m/cas_userstats/getUserStats.php?sdate=2...</td>\n      <td>HTTP/1.1</td>\n      <td>200</td>\n      <td>93</td>\n      <td>-</td>\n      <td>python-requests/2.5.1 CPython/3.8.5 Linux/3.10...</td>\n      <td>0</td>\n    </tr>\n    <tr>\n      <th>1</th>\n      <td>172.26.3.200</td>\n      <td>2023-11-06 00:00:03+05:30</td>\n      <td>GET</td>\n      <td>/rbi</td>\n      <td>HTTP/1.1</td>\n      <td>301</td>\n      <td>248</td>\n      <td>-</td>\n      <td>Python-urllib/3.7</td>\n      <td>1</td>\n    </tr>\n    <tr>\n      <th>2</th>\n      <td>172.26.3.200</td>\n      <td>2023-11-06 00:00:03+05:30</td>\n      <td>GET</td>\n      <td>/rbi/</td>\n      <td>HTTP/1.1</td>\n      <td>200</td>\n      <td>9298</td>\n      <td>-</td>\n      <td>Python-urllib/3.7</td>\n      <td>2</td>\n    </tr>\n    <tr>\n      <th>3</th>\n      <td>172.26.3.200</td>\n      <td>2023-11-06 00:00:04+05:30</td>\n      <td>GET</td>\n      <td>/rbi/</td>\n      <td>HTTP/1.1</td>\n      <td>200</td>\n      <td>9298</td>\n      <td>-</td>\n      <td>Python-urllib/3.7</td>\n      <td>3</td>\n    </tr>\n    <tr>\n      <th>4</th>\n      <td>172.26.3.214</td>\n      <td>2023-11-06 00:01:02+05:30</td>\n      <td>GET</td>\n      <td>/scan_m/cas_userstats/getUserStats.php?sdate=2...</td>\n      <td>HTTP/1.1</td>\n      <td>200</td>\n      <td>93</td>\n      <td>-</td>\n      <td>python-requests/2.5.1 CPython/3.8.5 Linux/3.10...</td>\n      <td>4</td>\n    </tr>\n    <tr>\n      <th>...</th>\n      <td>...</td>\n      <td>...</td>\n      <td>...</td>\n      <td>...</td>\n      <td>...</td>\n      <td>...</td>\n      <td>...</td>\n      <td>...</td>\n      <td>...</td>\n      <td>...</td>\n    </tr>\n    <tr>\n      <th>38592</th>\n      <td>172.26.3.214</td>\n      <td>2023-11-06 23:55:02+05:30</td>\n      <td>GET</td>\n      <td>/scan_m/cas_userstats/getUserStats.php?sdate=2...</td>\n      <td>HTTP/1.1</td>\n      <td>200</td>\n      <td>98</td>\n      <td>-</td>\n      <td>python-requests/2.5.1 CPython/3.8.5 Linux/3.10...</td>\n      <td>38592</td>\n    </tr>\n    <tr>\n      <th>38593</th>\n      <td>172.26.3.214</td>\n      <td>2023-11-06 23:56:01+05:30</td>\n      <td>GET</td>\n      <td>/scan_m/cas_userstats/getUserStats.php?sdate=2...</td>\n      <td>HTTP/1.1</td>\n      <td>200</td>\n      <td>98</td>\n      <td>-</td>\n      <td>python-requests/2.5.1 CPython/3.8.5 Linux/3.10...</td>\n      <td>38593</td>\n    </tr>\n    <tr>\n      <th>38594</th>\n      <td>172.26.3.214</td>\n      <td>2023-11-06 23:57:01+05:30</td>\n      <td>GET</td>\n      <td>/scan_m/cas_userstats/getUserStats.php?sdate=2...</td>\n      <td>HTTP/1.1</td>\n      <td>200</td>\n      <td>98</td>\n      <td>-</td>\n      <td>python-requests/2.5.1 CPython/3.8.5 Linux/3.10...</td>\n      <td>38594</td>\n    </tr>\n    <tr>\n      <th>38595</th>\n      <td>172.26.3.214</td>\n      <td>2023-11-06 23:58:01+05:30</td>\n      <td>GET</td>\n      <td>/scan_m/cas_userstats/getUserStats.php?sdate=2...</td>\n      <td>HTTP/1.1</td>\n      <td>200</td>\n      <td>98</td>\n      <td>-</td>\n      <td>python-requests/2.5.1 CPython/3.8.5 Linux/3.10...</td>\n      <td>38595</td>\n    </tr>\n    <tr>\n      <th>38596</th>\n      <td>172.26.3.214</td>\n      <td>2023-11-06 23:59:02+05:30</td>\n      <td>GET</td>\n      <td>/scan_m/cas_userstats/getUserStats.php?sdate=2...</td>\n      <td>HTTP/1.1</td>\n      <td>200</td>\n      <td>98</td>\n      <td>-</td>\n      <td>python-requests/2.5.1 CPython/3.8.5 Linux/3.10...</td>\n      <td>38596</td>\n    </tr>\n  </tbody>\n</table>\n<p>38597 rows × 10 columns</p>\n</div>"
     },
     "execution_count": 1579,
     "metadata": {},
     "output_type": "execute_result"
    }
   ],
   "source": [
    "import jupyter\n",
    "import pandas as pd\n",
    "from datetime import datetime\n",
    "from datetime import timedelta\n",
    "import numpy as np\n",
    "from urllib.parse import urlparse\n",
    "from sklearn.model_selection import train_test_split\n",
    "from itertools import groupby\n",
    "import random\n",
    "\n",
    "log_file_path = 'C://Users//yashs//OneDrive//Desktop//ISRO Hackathon//topic05//topic05//apache_logs//ssl_access_log-20231107.log'\n",
    "\n",
    "with open(log_file_path, 'r') as file:\n",
    "    log_entries = file.readlines()\n",
    "\n",
    "# parsed_logs = []\n",
    "# for entry in log_entries:\n",
    "#     parts = entry.split(' ')\n",
    "#     log_dict = {\n",
    "#         'ip_address': parts[0],\n",
    "#         'timestamp': parts[3][1:] + ' ' + parts[4][:-1],\n",
    "#         'request_line': ' '.join(parts[5:8]),\n",
    "#         'status_code': parts[8],\n",
    "#         'bytes_transferred': parts[9],\n",
    "#         'referrer': parts[10],\n",
    "#         'user_agent': ' '.join(parts[11:]),\n",
    "#     }\n",
    "#     parsed_logs.append(log_dict)\n",
    "# \n",
    "# logs_df = pd.DataFrame(parsed_logs)\n",
    "\n",
    "columns = ['ip_address', 'timestamp', 'method', 'request_line', 'http_version', 'status_code', 'bytes_transferred', 'referer', 'user_agent']\n",
    "# columns = ['ip_address', 'timestamp', 'request_line', 'http_version', 'status_code', 'bytes_transferred', 'referer', 'user_agent']\n",
    "log_list = []\n",
    "\n",
    "for log_entry in log_entries:\n",
    "    regex_pattern = r'(?P<ip_address>\\d+\\.\\d+\\.\\d+\\.\\d+) - - \\[(?P<timestamp>.*?)\\] \"(?P<method>\\w+) (?P<request_line>.*?) (?P<http_version>HTTP/\\d+\\.\\d+)\" (?P<status_code>\\d+) (?P<bytes_transferred>\\d+) \"(?P<referer>.*?)\" \"(?P<user_agent>.*?)\"'\n",
    "    # regex_pattern = r'(?P<ip_address>\\d+\\.\\d+\\.\\d+\\.\\d+) - - \\[(?P<timestamp>.*?)\\] \"(?P<method_request_line>\\w+ \\S+ .*?) (?P<http_version>HTTP/\\d+\\.\\d+)\" (?P<status_code>\\d+) (?P<bytes_transferred>\\d+) \"(?P<referer>.*?)\" \"(?P<user_agent>.*?)\"'\n",
    "    match = re.match(regex_pattern, log_entry)\n",
    "    if match:\n",
    "        log_list.append(match.groupdict())\n",
    "\n",
    "logs_df = pd.DataFrame(log_list, columns=columns)\n",
    "logs_df['timestamp'] = pd.to_datetime(logs_df['timestamp'], format='%d/%b/%Y:%H:%M:%S %z')\n",
    "\n",
    "\n",
    "# logs_df['parsed_url'] = pd.DataFrame([urlparse(logs_df['request_line'][x].split()[1]) for x in range(len(logs_df['request_line']))])['path']\n",
    "# print(f\"Path: {parsed_url.path}\")\n",
    "# print(f\"Query: {parsed_url.query}\")\n",
    "logs_df['log_index'] = logs_df.index \n",
    "logs_df"
   ]
  },
  {
   "cell_type": "code",
   "execution_count": 1580,
   "outputs": [
    {
     "data": {
      "text/plain": "                            timestamp  method  request_line  http_version  \\\nip_address     status_code                                                  \n172.17.53.23   200                 33      33            33            33   \n172.26.3.200   200                696     696           696           696   \n               301                 51      51            51            51   \n               302                108     108           108           108   \n               403                  1       1             1             1   \n               404                  7       7             7             7   \n172.26.3.214   200              12418   12418         12418         12418   \n172.26.3.55    200                 64      64            64            64   \n               301                  1       1             1             1   \n               404                  3       3             3             3   \n172.31.4.102   200                 15      15            15            15   \n               404                  3       3             3             3   \n172.31.4.127   200                234     234           234           234   \n               404                  4       4             4             4   \n172.31.4.134   200                616     616           616           616   \n               301                  1       1             1             1   \n172.31.4.188   200                 44      44            44            44   \n               301                  1       1             1             1   \n               302                  3       3             3             3   \n172.31.4.190   200                 16      16            16            16   \n               404                  2       2             2             2   \n172.31.4.195   200              11976   11976         11976         11976   \n               302                199     199           199           199   \n               404                 28      28            28            28   \n172.31.4.196   200                 50      50            50            50   \n               302                142     142           142           142   \n172.31.4.54    200                115     115           115           115   \n               404                  2       2             2             2   \n192.168.1.125  200                309     309           309           309   \n               206                  1       1             1             1   \n               301                 16      16            16            16   \n               302                204     204           204           204   \n               400                208     208           208           208   \n               403                204     204           204           204   \n               404               8552    8552          8552          8552   \n               405                  2       2             2             2   \n               417                  2       2             2             2   \n               431                  2       2             2             2   \n192.168.193.36 200               1893    1893          1893          1893   \n               301                  1       1             1             1   \n               302                 84      84            84            84   \n               404                  1       1             1             1   \n192.168.193.6  200                218     218           218           218   \n               302                 67      67            67            67   \n\n                            bytes_transferred  referer  user_agent  log_index  \nip_address     status_code                                                     \n172.17.53.23   200                         33       33          33         33  \n172.26.3.200   200                        696      696         696        696  \n               301                         51       51          51         51  \n               302                        108      108         108        108  \n               403                          1        1           1          1  \n               404                          7        7           7          7  \n172.26.3.214   200                      12418    12418       12418      12418  \n172.26.3.55    200                         64       64          64         64  \n               301                          1        1           1          1  \n               404                          3        3           3          3  \n172.31.4.102   200                         15       15          15         15  \n               404                          3        3           3          3  \n172.31.4.127   200                        234      234         234        234  \n               404                          4        4           4          4  \n172.31.4.134   200                        616      616         616        616  \n               301                          1        1           1          1  \n172.31.4.188   200                         44       44          44         44  \n               301                          1        1           1          1  \n               302                          3        3           3          3  \n172.31.4.190   200                         16       16          16         16  \n               404                          2        2           2          2  \n172.31.4.195   200                      11976    11976       11976      11976  \n               302                        199      199         199        199  \n               404                         28       28          28         28  \n172.31.4.196   200                         50       50          50         50  \n               302                        142      142         142        142  \n172.31.4.54    200                        115      115         115        115  \n               404                          2        2           2          2  \n192.168.1.125  200                        309      309         309        309  \n               206                          1        1           1          1  \n               301                         16       16          16         16  \n               302                        204      204         204        204  \n               400                        208      208         208        208  \n               403                        204      204         204        204  \n               404                       8552     8552        8552       8552  \n               405                          2        2           2          2  \n               417                          2        2           2          2  \n               431                          2        2           2          2  \n192.168.193.36 200                       1893     1893        1893       1893  \n               301                          1        1           1          1  \n               302                         84       84          84         84  \n               404                          1        1           1          1  \n192.168.193.6  200                        218      218         218        218  \n               302                         67       67          67         67  ",
      "text/html": "<div>\n<style scoped>\n    .dataframe tbody tr th:only-of-type {\n        vertical-align: middle;\n    }\n\n    .dataframe tbody tr th {\n        vertical-align: top;\n    }\n\n    .dataframe thead th {\n        text-align: right;\n    }\n</style>\n<table border=\"1\" class=\"dataframe\">\n  <thead>\n    <tr style=\"text-align: right;\">\n      <th></th>\n      <th></th>\n      <th>timestamp</th>\n      <th>method</th>\n      <th>request_line</th>\n      <th>http_version</th>\n      <th>bytes_transferred</th>\n      <th>referer</th>\n      <th>user_agent</th>\n      <th>log_index</th>\n    </tr>\n    <tr>\n      <th>ip_address</th>\n      <th>status_code</th>\n      <th></th>\n      <th></th>\n      <th></th>\n      <th></th>\n      <th></th>\n      <th></th>\n      <th></th>\n      <th></th>\n    </tr>\n  </thead>\n  <tbody>\n    <tr>\n      <th>172.17.53.23</th>\n      <th>200</th>\n      <td>33</td>\n      <td>33</td>\n      <td>33</td>\n      <td>33</td>\n      <td>33</td>\n      <td>33</td>\n      <td>33</td>\n      <td>33</td>\n    </tr>\n    <tr>\n      <th rowspan=\"5\" valign=\"top\">172.26.3.200</th>\n      <th>200</th>\n      <td>696</td>\n      <td>696</td>\n      <td>696</td>\n      <td>696</td>\n      <td>696</td>\n      <td>696</td>\n      <td>696</td>\n      <td>696</td>\n    </tr>\n    <tr>\n      <th>301</th>\n      <td>51</td>\n      <td>51</td>\n      <td>51</td>\n      <td>51</td>\n      <td>51</td>\n      <td>51</td>\n      <td>51</td>\n      <td>51</td>\n    </tr>\n    <tr>\n      <th>302</th>\n      <td>108</td>\n      <td>108</td>\n      <td>108</td>\n      <td>108</td>\n      <td>108</td>\n      <td>108</td>\n      <td>108</td>\n      <td>108</td>\n    </tr>\n    <tr>\n      <th>403</th>\n      <td>1</td>\n      <td>1</td>\n      <td>1</td>\n      <td>1</td>\n      <td>1</td>\n      <td>1</td>\n      <td>1</td>\n      <td>1</td>\n    </tr>\n    <tr>\n      <th>404</th>\n      <td>7</td>\n      <td>7</td>\n      <td>7</td>\n      <td>7</td>\n      <td>7</td>\n      <td>7</td>\n      <td>7</td>\n      <td>7</td>\n    </tr>\n    <tr>\n      <th>172.26.3.214</th>\n      <th>200</th>\n      <td>12418</td>\n      <td>12418</td>\n      <td>12418</td>\n      <td>12418</td>\n      <td>12418</td>\n      <td>12418</td>\n      <td>12418</td>\n      <td>12418</td>\n    </tr>\n    <tr>\n      <th rowspan=\"3\" valign=\"top\">172.26.3.55</th>\n      <th>200</th>\n      <td>64</td>\n      <td>64</td>\n      <td>64</td>\n      <td>64</td>\n      <td>64</td>\n      <td>64</td>\n      <td>64</td>\n      <td>64</td>\n    </tr>\n    <tr>\n      <th>301</th>\n      <td>1</td>\n      <td>1</td>\n      <td>1</td>\n      <td>1</td>\n      <td>1</td>\n      <td>1</td>\n      <td>1</td>\n      <td>1</td>\n    </tr>\n    <tr>\n      <th>404</th>\n      <td>3</td>\n      <td>3</td>\n      <td>3</td>\n      <td>3</td>\n      <td>3</td>\n      <td>3</td>\n      <td>3</td>\n      <td>3</td>\n    </tr>\n    <tr>\n      <th rowspan=\"2\" valign=\"top\">172.31.4.102</th>\n      <th>200</th>\n      <td>15</td>\n      <td>15</td>\n      <td>15</td>\n      <td>15</td>\n      <td>15</td>\n      <td>15</td>\n      <td>15</td>\n      <td>15</td>\n    </tr>\n    <tr>\n      <th>404</th>\n      <td>3</td>\n      <td>3</td>\n      <td>3</td>\n      <td>3</td>\n      <td>3</td>\n      <td>3</td>\n      <td>3</td>\n      <td>3</td>\n    </tr>\n    <tr>\n      <th rowspan=\"2\" valign=\"top\">172.31.4.127</th>\n      <th>200</th>\n      <td>234</td>\n      <td>234</td>\n      <td>234</td>\n      <td>234</td>\n      <td>234</td>\n      <td>234</td>\n      <td>234</td>\n      <td>234</td>\n    </tr>\n    <tr>\n      <th>404</th>\n      <td>4</td>\n      <td>4</td>\n      <td>4</td>\n      <td>4</td>\n      <td>4</td>\n      <td>4</td>\n      <td>4</td>\n      <td>4</td>\n    </tr>\n    <tr>\n      <th rowspan=\"2\" valign=\"top\">172.31.4.134</th>\n      <th>200</th>\n      <td>616</td>\n      <td>616</td>\n      <td>616</td>\n      <td>616</td>\n      <td>616</td>\n      <td>616</td>\n      <td>616</td>\n      <td>616</td>\n    </tr>\n    <tr>\n      <th>301</th>\n      <td>1</td>\n      <td>1</td>\n      <td>1</td>\n      <td>1</td>\n      <td>1</td>\n      <td>1</td>\n      <td>1</td>\n      <td>1</td>\n    </tr>\n    <tr>\n      <th rowspan=\"3\" valign=\"top\">172.31.4.188</th>\n      <th>200</th>\n      <td>44</td>\n      <td>44</td>\n      <td>44</td>\n      <td>44</td>\n      <td>44</td>\n      <td>44</td>\n      <td>44</td>\n      <td>44</td>\n    </tr>\n    <tr>\n      <th>301</th>\n      <td>1</td>\n      <td>1</td>\n      <td>1</td>\n      <td>1</td>\n      <td>1</td>\n      <td>1</td>\n      <td>1</td>\n      <td>1</td>\n    </tr>\n    <tr>\n      <th>302</th>\n      <td>3</td>\n      <td>3</td>\n      <td>3</td>\n      <td>3</td>\n      <td>3</td>\n      <td>3</td>\n      <td>3</td>\n      <td>3</td>\n    </tr>\n    <tr>\n      <th rowspan=\"2\" valign=\"top\">172.31.4.190</th>\n      <th>200</th>\n      <td>16</td>\n      <td>16</td>\n      <td>16</td>\n      <td>16</td>\n      <td>16</td>\n      <td>16</td>\n      <td>16</td>\n      <td>16</td>\n    </tr>\n    <tr>\n      <th>404</th>\n      <td>2</td>\n      <td>2</td>\n      <td>2</td>\n      <td>2</td>\n      <td>2</td>\n      <td>2</td>\n      <td>2</td>\n      <td>2</td>\n    </tr>\n    <tr>\n      <th rowspan=\"3\" valign=\"top\">172.31.4.195</th>\n      <th>200</th>\n      <td>11976</td>\n      <td>11976</td>\n      <td>11976</td>\n      <td>11976</td>\n      <td>11976</td>\n      <td>11976</td>\n      <td>11976</td>\n      <td>11976</td>\n    </tr>\n    <tr>\n      <th>302</th>\n      <td>199</td>\n      <td>199</td>\n      <td>199</td>\n      <td>199</td>\n      <td>199</td>\n      <td>199</td>\n      <td>199</td>\n      <td>199</td>\n    </tr>\n    <tr>\n      <th>404</th>\n      <td>28</td>\n      <td>28</td>\n      <td>28</td>\n      <td>28</td>\n      <td>28</td>\n      <td>28</td>\n      <td>28</td>\n      <td>28</td>\n    </tr>\n    <tr>\n      <th rowspan=\"2\" valign=\"top\">172.31.4.196</th>\n      <th>200</th>\n      <td>50</td>\n      <td>50</td>\n      <td>50</td>\n      <td>50</td>\n      <td>50</td>\n      <td>50</td>\n      <td>50</td>\n      <td>50</td>\n    </tr>\n    <tr>\n      <th>302</th>\n      <td>142</td>\n      <td>142</td>\n      <td>142</td>\n      <td>142</td>\n      <td>142</td>\n      <td>142</td>\n      <td>142</td>\n      <td>142</td>\n    </tr>\n    <tr>\n      <th rowspan=\"2\" valign=\"top\">172.31.4.54</th>\n      <th>200</th>\n      <td>115</td>\n      <td>115</td>\n      <td>115</td>\n      <td>115</td>\n      <td>115</td>\n      <td>115</td>\n      <td>115</td>\n      <td>115</td>\n    </tr>\n    <tr>\n      <th>404</th>\n      <td>2</td>\n      <td>2</td>\n      <td>2</td>\n      <td>2</td>\n      <td>2</td>\n      <td>2</td>\n      <td>2</td>\n      <td>2</td>\n    </tr>\n    <tr>\n      <th rowspan=\"10\" valign=\"top\">192.168.1.125</th>\n      <th>200</th>\n      <td>309</td>\n      <td>309</td>\n      <td>309</td>\n      <td>309</td>\n      <td>309</td>\n      <td>309</td>\n      <td>309</td>\n      <td>309</td>\n    </tr>\n    <tr>\n      <th>206</th>\n      <td>1</td>\n      <td>1</td>\n      <td>1</td>\n      <td>1</td>\n      <td>1</td>\n      <td>1</td>\n      <td>1</td>\n      <td>1</td>\n    </tr>\n    <tr>\n      <th>301</th>\n      <td>16</td>\n      <td>16</td>\n      <td>16</td>\n      <td>16</td>\n      <td>16</td>\n      <td>16</td>\n      <td>16</td>\n      <td>16</td>\n    </tr>\n    <tr>\n      <th>302</th>\n      <td>204</td>\n      <td>204</td>\n      <td>204</td>\n      <td>204</td>\n      <td>204</td>\n      <td>204</td>\n      <td>204</td>\n      <td>204</td>\n    </tr>\n    <tr>\n      <th>400</th>\n      <td>208</td>\n      <td>208</td>\n      <td>208</td>\n      <td>208</td>\n      <td>208</td>\n      <td>208</td>\n      <td>208</td>\n      <td>208</td>\n    </tr>\n    <tr>\n      <th>403</th>\n      <td>204</td>\n      <td>204</td>\n      <td>204</td>\n      <td>204</td>\n      <td>204</td>\n      <td>204</td>\n      <td>204</td>\n      <td>204</td>\n    </tr>\n    <tr>\n      <th>404</th>\n      <td>8552</td>\n      <td>8552</td>\n      <td>8552</td>\n      <td>8552</td>\n      <td>8552</td>\n      <td>8552</td>\n      <td>8552</td>\n      <td>8552</td>\n    </tr>\n    <tr>\n      <th>405</th>\n      <td>2</td>\n      <td>2</td>\n      <td>2</td>\n      <td>2</td>\n      <td>2</td>\n      <td>2</td>\n      <td>2</td>\n      <td>2</td>\n    </tr>\n    <tr>\n      <th>417</th>\n      <td>2</td>\n      <td>2</td>\n      <td>2</td>\n      <td>2</td>\n      <td>2</td>\n      <td>2</td>\n      <td>2</td>\n      <td>2</td>\n    </tr>\n    <tr>\n      <th>431</th>\n      <td>2</td>\n      <td>2</td>\n      <td>2</td>\n      <td>2</td>\n      <td>2</td>\n      <td>2</td>\n      <td>2</td>\n      <td>2</td>\n    </tr>\n    <tr>\n      <th rowspan=\"4\" valign=\"top\">192.168.193.36</th>\n      <th>200</th>\n      <td>1893</td>\n      <td>1893</td>\n      <td>1893</td>\n      <td>1893</td>\n      <td>1893</td>\n      <td>1893</td>\n      <td>1893</td>\n      <td>1893</td>\n    </tr>\n    <tr>\n      <th>301</th>\n      <td>1</td>\n      <td>1</td>\n      <td>1</td>\n      <td>1</td>\n      <td>1</td>\n      <td>1</td>\n      <td>1</td>\n      <td>1</td>\n    </tr>\n    <tr>\n      <th>302</th>\n      <td>84</td>\n      <td>84</td>\n      <td>84</td>\n      <td>84</td>\n      <td>84</td>\n      <td>84</td>\n      <td>84</td>\n      <td>84</td>\n    </tr>\n    <tr>\n      <th>404</th>\n      <td>1</td>\n      <td>1</td>\n      <td>1</td>\n      <td>1</td>\n      <td>1</td>\n      <td>1</td>\n      <td>1</td>\n      <td>1</td>\n    </tr>\n    <tr>\n      <th rowspan=\"2\" valign=\"top\">192.168.193.6</th>\n      <th>200</th>\n      <td>218</td>\n      <td>218</td>\n      <td>218</td>\n      <td>218</td>\n      <td>218</td>\n      <td>218</td>\n      <td>218</td>\n      <td>218</td>\n    </tr>\n    <tr>\n      <th>302</th>\n      <td>67</td>\n      <td>67</td>\n      <td>67</td>\n      <td>67</td>\n      <td>67</td>\n      <td>67</td>\n      <td>67</td>\n      <td>67</td>\n    </tr>\n  </tbody>\n</table>\n</div>"
     },
     "execution_count": 1580,
     "metadata": {},
     "output_type": "execute_result"
    }
   ],
   "source": [
    "#using status code in each group , analysing request line with higfh perecent of unsuccessful in certain group  \n",
    "status_df = logs_df.groupby(by = ['ip_address','status_code']).count()\n",
    "# for idx, group in status_df:\n",
    "#     group.grpoupby()\n",
    "# status_df.count()\n",
    "#analyse using user agents - python request \n",
    "status_df"
   ],
   "metadata": {
    "collapsed": false,
    "ExecuteTime": {
     "end_time": "2023-12-23T20:46:24.810612400Z",
     "start_time": "2023-12-23T20:46:24.670341Z"
    }
   },
   "id": "36fff590328e635f"
  },
  {
   "cell_type": "code",
   "execution_count": 1581,
   "id": "a50261d636a4a043",
   "metadata": {
    "ExecuteTime": {
     "end_time": "2023-12-23T20:46:24.849661300Z",
     "start_time": "2023-12-23T20:46:24.721820600Z"
    }
   },
   "outputs": [],
   "source": [
    "# import argparse\n",
    "# import json\n",
    "# import pandas as pd\n",
    "# import re\n",
    "# # from typing import list\n",
    "#  \n",
    "# quiet=False\n",
    "# \n",
    "# def print_message(message: str):\n",
    "#     global quiet\n",
    "#     if not quiet:\n",
    "#         print(message)\n",
    "# def get_matches(log_file:str, regex):\n",
    "#     with open(log_file, 'r') as f:\n",
    "#         line=f.readline()\n",
    "#         while line:\n",
    "#             line=line.strip()\n",
    "#             matches=re.match(regex,line)\n",
    "#             if not matches:\n",
    "#                 print_message(f\"Warning, unable to parse the log message : {line}\")\n",
    "#                 line=f.readline()\n",
    "#                 continue\n",
    "#             groups=matches.groups()\n",
    "#             yield groups\n",
    "#             line=f.readline()\n",
    "# def parse_apache_logs(log_file: str)->list:\n",
    "#     logs=[]\n",
    "#     regex=re.compile(r'^(\\d+\\.\\d+\\.\\d+\\.\\d+) - - \\[(\\d+/\\w+/\\d+:\\d{2}:\\d{2}:\\d{2}\\s\\+?\\d{4})\\] \"(\\w+)?\\s?[/]?([^\\^]+)(HTTP[^\"]+)\"\\s(\\d+|-)\\s(\\d+|-)\\s\"([^\\^]+|-)\"\\s\"([^\\^]+|-)\"$')\n",
    "#     #  - - \\[(\\d+/\\w+/\\d+):(\\d{2}:\\d{2}:\\d{2})\\s(\\+?-?\\d{4})\\] \"(\\w+) /([^\"]+)\"\\s(\\d+)\\s(\\d+)\\s\"([^\"]+)\"\\s\"([^\"]+)\"$\n",
    "#     for groups in get_matches(log_file,regex):\n",
    "#         log_dict={'IP_address':groups[0],'Date':groups[1],'Timestamp':groups[2],'TimeOffset':groups[3],\\\n",
    "#                   'Command':groups[4],'Path_of_Requested_File':groups[5],'G6':groups[6], 'SRC':groups[7],\\\n",
    "#                     'Bytes_Received':groups[8],'Referral_URL':groups[9],'User_Agent':groups[10]}\n",
    "#         # \"\"\",'Date':groups[1],'Timestamp':groups[2],'TimeOffset':groups[3],\\\n",
    "#         #           'Command':groups[4],'Path_of_Requested_File':groups[5],'SRC':groups[6],\\\n",
    "#         #           'Bytes_Received':groups[7],'Referral_URL':groups[8],'User_Agent':groups[9]}\"\"\"\n",
    "#         logs.append(log_dict)\n",
    "#     return logs\n",
    "# a=parse_apache_logs('ssl_access_log-20231107')\n",
    "# b=pd.DataFrame(a)\n",
    "# b.to_csv('my_oldata.csv')"
   ]
  },
  {
   "cell_type": "code",
   "execution_count": 1582,
   "id": "752ec0b42bf69ebb",
   "metadata": {
    "ExecuteTime": {
     "end_time": "2023-12-23T20:46:24.849661300Z",
     "start_time": "2023-12-23T20:46:24.728598500Z"
    }
   },
   "outputs": [],
   "source": [
    "#  ** Drop duplicates **\n",
    "# #logs_df.drop_duplicates(keep=False)\n",
    "# reduce_df = logs_df.drop_duplicates()\n",
    "# print(logs_df.isnull().any(axis=0))\n",
    "# reduce_df"
   ]
  },
  {
   "cell_type": "code",
   "execution_count": 1583,
   "id": "c01466091a4b70f7",
   "metadata": {
    "ExecuteTime": {
     "end_time": "2023-12-23T20:46:24.849661300Z",
     "start_time": "2023-12-23T20:46:24.738453300Z"
    }
   },
   "outputs": [
    {
     "name": "stdout",
     "output_type": "stream",
     "text": [
      "38597\n",
      "16919\n",
      "21678\n"
     ]
    }
   ],
   "source": [
    "# referer_df = logs_df['referer'].drop_duplicates()\n",
    "referer_df = logs_df['referer']\n",
    "print(len(referer_df))\n",
    "# referer_df.loc[referer_df == '-']\n",
    "print(len(referer_df.loc[referer_df != '-']))\n",
    "print(len(referer_df.loc[referer_df == '-']))\n",
    "# referer_df"
   ]
  },
  {
   "cell_type": "code",
   "execution_count": 1584,
   "id": "initial_id",
   "metadata": {
    "ExecuteTime": {
     "end_time": "2023-12-23T20:46:24.879564300Z",
     "start_time": "2023-12-23T20:46:24.751228200Z"
    }
   },
   "outputs": [
    {
     "name": "stdout",
     "output_type": "stream",
     "text": [
      "<class 'pandas._libs.tslibs.timestamps.Timestamp'>\n",
      "0       2023-11-06 00:00:02+05:30\n",
      "1       2023-11-06 00:00:03+05:30\n",
      "2       2023-11-06 00:00:03+05:30\n",
      "3       2023-11-06 00:00:04+05:30\n",
      "4       2023-11-06 00:01:02+05:30\n",
      "                   ...           \n",
      "38592   2023-11-06 23:55:02+05:30\n",
      "38593   2023-11-06 23:56:01+05:30\n",
      "38594   2023-11-06 23:57:01+05:30\n",
      "38595   2023-11-06 23:58:01+05:30\n",
      "38596   2023-11-06 23:59:02+05:30\n",
      "Name: timestamp, Length: 38597, dtype: datetime64[ns, UTC+05:30]\n"
     ]
    }
   ],
   "source": [
    "# status_list = []\n",
    "# for i in logs_df['status_code']:\n",
    "#     if (i not in status_list):\n",
    "#         status_list.append(i)\n",
    "# print(status_list)\n",
    "\n",
    "## pd.to_datetime(logs_df['timestamp'], format=\"%d/%b/%Y:%H:%M:%S %z\")\n",
    "print(type(logs_df['timestamp'][1]))\n",
    "print(logs_df['timestamp'])\n",
    "\n",
    "# timestamp_list = []\n",
    "# for timestamp in logs_df['timestamp'].tolist():\n",
    "#     ## print(timestamp)\n",
    "#     i=pd.to_datetime(str(timestamp),format= \"%d/%b/%Y:%H:%M:%S %z\")\n",
    "#     timestamp_list.append(i)\n",
    "#\n",
    "# logs_df['timestamp'] = pd.DataFrame(timestamp_list)\n",
    "##print(len(logs_df['timestamp']),len(pd.DataFrame(timestamp_list)))\n",
    "\n",
    "# print(logs_df['timestamp'][1])\n",
    "# print(type(logs_df['timestamp']))"
   ]
  },
  {
   "cell_type": "code",
   "execution_count": 1585,
   "id": "9afbfe77a870e28",
   "metadata": {
    "ExecuteTime": {
     "end_time": "2023-12-23T20:46:24.879564300Z",
     "start_time": "2023-12-23T20:46:24.765508700Z"
    }
   },
   "outputs": [],
   "source": [
    "logs_df['timezone'] = logs_df['timestamp'].dt.tz\n",
    "# print(logs_df['timezone'].drop_duplicates())\n",
    "if len(logs_df['timezone'].drop_duplicates() == 1):\n",
    "    logs_df['timestamp_localised'] = logs_df['timestamp'].dt.tz_localize(None)\n",
    "# logs_df"
   ]
  },
  {
   "cell_type": "code",
   "execution_count": 1586,
   "id": "28b2a0330dca3490",
   "metadata": {
    "ExecuteTime": {
     "end_time": "2023-12-23T20:46:24.931187600Z",
     "start_time": "2023-12-23T20:46:24.777386400Z"
    }
   },
   "outputs": [
    {
     "data": {
      "text/plain": "          ip_address                 timestamp method  \\\n23415   172.17.53.23 2023-11-06 12:33:41+05:30    GET   \n23416   172.17.53.23 2023-11-06 12:33:41+05:30    GET   \n23417   172.17.53.23 2023-11-06 12:33:41+05:30    GET   \n23418   172.17.53.23 2023-11-06 12:33:41+05:30    GET   \n23419   172.17.53.23 2023-11-06 12:33:41+05:30    GET   \n...              ...                       ...    ...   \n26926  192.168.193.6 2023-11-06 14:26:51+05:30   POST   \n26927  192.168.193.6 2023-11-06 14:26:51+05:30   POST   \n26928  192.168.193.6 2023-11-06 14:26:51+05:30   POST   \n26929  192.168.193.6 2023-11-06 14:26:51+05:30   POST   \n26930  192.168.193.6 2023-11-06 14:26:51+05:30    GET   \n\n                                      request_line http_version status_code  \\\n23415                                 /scan_m/fog/     HTTP/2.0         200   \n23416                /scan_m/fog/css/component.css     HTTP/2.0         200   \n23417                       /scan_m/fog/css/ol.css     HTTP/2.0         200   \n23418         /scan_m/fog/theme/default/style2.css     HTTP/2.0         200   \n23419  /scan_m/fog/theme/default/jquery-ui.min.css     HTTP/2.0         200   \n...                                            ...          ...         ...   \n26926                   /wdc2.0/php/get_states.php     HTTP/2.0         200   \n26927                    /wdc2.0/php/get_heads.php     HTTP/2.0         200   \n26928                   /wdc2.0/php/get_states.php     HTTP/2.0         200   \n26929                    /wdc2.0/php/get_heads.php     HTTP/2.0         200   \n26930              /wdc2.0/php/get_project_all.php     HTTP/2.0         200   \n\n      bytes_transferred                                          referer  \\\n23415              8309                                                -   \n23416              1159  https://bhuvan-staging1.nrsc.gov.in/scan_m/fog/   \n23417              2313  https://bhuvan-staging1.nrsc.gov.in/scan_m/fog/   \n23418              4345  https://bhuvan-staging1.nrsc.gov.in/scan_m/fog/   \n23419              8343  https://bhuvan-staging1.nrsc.gov.in/scan_m/fog/   \n...                 ...                                              ...   \n26926               355      https://bhuvan-staging1.nrsc.gov.in/wdc2.0/   \n26927               329      https://bhuvan-staging1.nrsc.gov.in/wdc2.0/   \n26928               355      https://bhuvan-staging1.nrsc.gov.in/wdc2.0/   \n26929               329      https://bhuvan-staging1.nrsc.gov.in/wdc2.0/   \n26930           6768368      https://bhuvan-staging1.nrsc.gov.in/wdc2.0/   \n\n                                              user_agent  log_index  \\\n23415  Mozilla/5.0 (Windows NT 10.0; Win64; x64) Appl...      23415   \n23416  Mozilla/5.0 (Windows NT 10.0; Win64; x64) Appl...      23416   \n23417  Mozilla/5.0 (Windows NT 10.0; Win64; x64) Appl...      23417   \n23418  Mozilla/5.0 (Windows NT 10.0; Win64; x64) Appl...      23418   \n23419  Mozilla/5.0 (Windows NT 10.0; Win64; x64) Appl...      23419   \n...                                                  ...        ...   \n26926  Mozilla/5.0 (Windows NT 10.0; Win64; x64) Appl...      26926   \n26927  Mozilla/5.0 (Windows NT 10.0; Win64; x64) Appl...      26927   \n26928  Mozilla/5.0 (Windows NT 10.0; Win64; x64) Appl...      26928   \n26929  Mozilla/5.0 (Windows NT 10.0; Win64; x64) Appl...      26929   \n26930  Mozilla/5.0 (Windows NT 10.0; Win64; x64) Appl...      26930   \n\n        timezone timestamp_localised  \n23415  UTC+05:30 2023-11-06 12:33:41  \n23416  UTC+05:30 2023-11-06 12:33:41  \n23417  UTC+05:30 2023-11-06 12:33:41  \n23418  UTC+05:30 2023-11-06 12:33:41  \n23419  UTC+05:30 2023-11-06 12:33:41  \n...          ...                 ...  \n26926  UTC+05:30 2023-11-06 14:26:51  \n26927  UTC+05:30 2023-11-06 14:26:51  \n26928  UTC+05:30 2023-11-06 14:26:51  \n26929  UTC+05:30 2023-11-06 14:26:51  \n26930  UTC+05:30 2023-11-06 14:26:51  \n\n[38597 rows x 12 columns]",
      "text/html": "<div>\n<style scoped>\n    .dataframe tbody tr th:only-of-type {\n        vertical-align: middle;\n    }\n\n    .dataframe tbody tr th {\n        vertical-align: top;\n    }\n\n    .dataframe thead th {\n        text-align: right;\n    }\n</style>\n<table border=\"1\" class=\"dataframe\">\n  <thead>\n    <tr style=\"text-align: right;\">\n      <th></th>\n      <th>ip_address</th>\n      <th>timestamp</th>\n      <th>method</th>\n      <th>request_line</th>\n      <th>http_version</th>\n      <th>status_code</th>\n      <th>bytes_transferred</th>\n      <th>referer</th>\n      <th>user_agent</th>\n      <th>log_index</th>\n      <th>timezone</th>\n      <th>timestamp_localised</th>\n    </tr>\n  </thead>\n  <tbody>\n    <tr>\n      <th>23415</th>\n      <td>172.17.53.23</td>\n      <td>2023-11-06 12:33:41+05:30</td>\n      <td>GET</td>\n      <td>/scan_m/fog/</td>\n      <td>HTTP/2.0</td>\n      <td>200</td>\n      <td>8309</td>\n      <td>-</td>\n      <td>Mozilla/5.0 (Windows NT 10.0; Win64; x64) Appl...</td>\n      <td>23415</td>\n      <td>UTC+05:30</td>\n      <td>2023-11-06 12:33:41</td>\n    </tr>\n    <tr>\n      <th>23416</th>\n      <td>172.17.53.23</td>\n      <td>2023-11-06 12:33:41+05:30</td>\n      <td>GET</td>\n      <td>/scan_m/fog/css/component.css</td>\n      <td>HTTP/2.0</td>\n      <td>200</td>\n      <td>1159</td>\n      <td>https://bhuvan-staging1.nrsc.gov.in/scan_m/fog/</td>\n      <td>Mozilla/5.0 (Windows NT 10.0; Win64; x64) Appl...</td>\n      <td>23416</td>\n      <td>UTC+05:30</td>\n      <td>2023-11-06 12:33:41</td>\n    </tr>\n    <tr>\n      <th>23417</th>\n      <td>172.17.53.23</td>\n      <td>2023-11-06 12:33:41+05:30</td>\n      <td>GET</td>\n      <td>/scan_m/fog/css/ol.css</td>\n      <td>HTTP/2.0</td>\n      <td>200</td>\n      <td>2313</td>\n      <td>https://bhuvan-staging1.nrsc.gov.in/scan_m/fog/</td>\n      <td>Mozilla/5.0 (Windows NT 10.0; Win64; x64) Appl...</td>\n      <td>23417</td>\n      <td>UTC+05:30</td>\n      <td>2023-11-06 12:33:41</td>\n    </tr>\n    <tr>\n      <th>23418</th>\n      <td>172.17.53.23</td>\n      <td>2023-11-06 12:33:41+05:30</td>\n      <td>GET</td>\n      <td>/scan_m/fog/theme/default/style2.css</td>\n      <td>HTTP/2.0</td>\n      <td>200</td>\n      <td>4345</td>\n      <td>https://bhuvan-staging1.nrsc.gov.in/scan_m/fog/</td>\n      <td>Mozilla/5.0 (Windows NT 10.0; Win64; x64) Appl...</td>\n      <td>23418</td>\n      <td>UTC+05:30</td>\n      <td>2023-11-06 12:33:41</td>\n    </tr>\n    <tr>\n      <th>23419</th>\n      <td>172.17.53.23</td>\n      <td>2023-11-06 12:33:41+05:30</td>\n      <td>GET</td>\n      <td>/scan_m/fog/theme/default/jquery-ui.min.css</td>\n      <td>HTTP/2.0</td>\n      <td>200</td>\n      <td>8343</td>\n      <td>https://bhuvan-staging1.nrsc.gov.in/scan_m/fog/</td>\n      <td>Mozilla/5.0 (Windows NT 10.0; Win64; x64) Appl...</td>\n      <td>23419</td>\n      <td>UTC+05:30</td>\n      <td>2023-11-06 12:33:41</td>\n    </tr>\n    <tr>\n      <th>...</th>\n      <td>...</td>\n      <td>...</td>\n      <td>...</td>\n      <td>...</td>\n      <td>...</td>\n      <td>...</td>\n      <td>...</td>\n      <td>...</td>\n      <td>...</td>\n      <td>...</td>\n      <td>...</td>\n      <td>...</td>\n    </tr>\n    <tr>\n      <th>26926</th>\n      <td>192.168.193.6</td>\n      <td>2023-11-06 14:26:51+05:30</td>\n      <td>POST</td>\n      <td>/wdc2.0/php/get_states.php</td>\n      <td>HTTP/2.0</td>\n      <td>200</td>\n      <td>355</td>\n      <td>https://bhuvan-staging1.nrsc.gov.in/wdc2.0/</td>\n      <td>Mozilla/5.0 (Windows NT 10.0; Win64; x64) Appl...</td>\n      <td>26926</td>\n      <td>UTC+05:30</td>\n      <td>2023-11-06 14:26:51</td>\n    </tr>\n    <tr>\n      <th>26927</th>\n      <td>192.168.193.6</td>\n      <td>2023-11-06 14:26:51+05:30</td>\n      <td>POST</td>\n      <td>/wdc2.0/php/get_heads.php</td>\n      <td>HTTP/2.0</td>\n      <td>200</td>\n      <td>329</td>\n      <td>https://bhuvan-staging1.nrsc.gov.in/wdc2.0/</td>\n      <td>Mozilla/5.0 (Windows NT 10.0; Win64; x64) Appl...</td>\n      <td>26927</td>\n      <td>UTC+05:30</td>\n      <td>2023-11-06 14:26:51</td>\n    </tr>\n    <tr>\n      <th>26928</th>\n      <td>192.168.193.6</td>\n      <td>2023-11-06 14:26:51+05:30</td>\n      <td>POST</td>\n      <td>/wdc2.0/php/get_states.php</td>\n      <td>HTTP/2.0</td>\n      <td>200</td>\n      <td>355</td>\n      <td>https://bhuvan-staging1.nrsc.gov.in/wdc2.0/</td>\n      <td>Mozilla/5.0 (Windows NT 10.0; Win64; x64) Appl...</td>\n      <td>26928</td>\n      <td>UTC+05:30</td>\n      <td>2023-11-06 14:26:51</td>\n    </tr>\n    <tr>\n      <th>26929</th>\n      <td>192.168.193.6</td>\n      <td>2023-11-06 14:26:51+05:30</td>\n      <td>POST</td>\n      <td>/wdc2.0/php/get_heads.php</td>\n      <td>HTTP/2.0</td>\n      <td>200</td>\n      <td>329</td>\n      <td>https://bhuvan-staging1.nrsc.gov.in/wdc2.0/</td>\n      <td>Mozilla/5.0 (Windows NT 10.0; Win64; x64) Appl...</td>\n      <td>26929</td>\n      <td>UTC+05:30</td>\n      <td>2023-11-06 14:26:51</td>\n    </tr>\n    <tr>\n      <th>26930</th>\n      <td>192.168.193.6</td>\n      <td>2023-11-06 14:26:51+05:30</td>\n      <td>GET</td>\n      <td>/wdc2.0/php/get_project_all.php</td>\n      <td>HTTP/2.0</td>\n      <td>200</td>\n      <td>6768368</td>\n      <td>https://bhuvan-staging1.nrsc.gov.in/wdc2.0/</td>\n      <td>Mozilla/5.0 (Windows NT 10.0; Win64; x64) Appl...</td>\n      <td>26930</td>\n      <td>UTC+05:30</td>\n      <td>2023-11-06 14:26:51</td>\n    </tr>\n  </tbody>\n</table>\n<p>38597 rows × 12 columns</p>\n</div>"
     },
     "execution_count": 1586,
     "metadata": {},
     "output_type": "execute_result"
    }
   ],
   "source": [
    "#session details - duration , frequecy, session start/end time\n",
    "logs_df = logs_df.sort_values(by =['ip_address','timestamp_localised'])\n",
    "logs_df"
   ]
  },
  {
   "cell_type": "code",
   "execution_count": 1587,
   "id": "649a707e8295c3a0",
   "metadata": {
    "ExecuteTime": {
     "end_time": "2023-12-23T20:46:25.083563100Z",
     "start_time": "2023-12-23T20:46:24.820880800Z"
    }
   },
   "outputs": [
    {
     "name": "stdout",
     "output_type": "stream",
     "text": [
      "<class 'pandas._libs.tslibs.nattype.NaTType'> <class 'pandas._libs.tslibs.timestamps.Timestamp'>\n",
      "<class 'pandas._libs.tslibs.timedeltas.Timedelta'> <class 'datetime.timedelta'>\n",
      "Index([  772,   848,   860, 13394, 13396, 13397, 13463, 13487, 13502, 13867,\n",
      "       14320, 25871, 25872, 26465, 26509, 26779, 33637, 36541, 37850, 38310,\n",
      "       38418],\n",
      "      dtype='int64')\n",
      "session    0\n",
      "Name: 772, dtype: object\n",
      "772      28133\n",
      "848      34128\n",
      "860      35348\n",
      "13394    23357\n",
      "13396    24802\n",
      "13397    25694\n",
      "13463    21773\n",
      "13487    24847\n",
      "13502    33109\n",
      "13867    27558\n",
      "14320    29738\n",
      "25871    22058\n",
      "25872    25461\n",
      "26465    28081\n",
      "26509    33117\n",
      "26779    29892\n",
      "33637    30172\n",
      "36541    21931\n",
      "37850    29144\n",
      "38310    33039\n",
      "38418    25855\n",
      "Name: log_index, dtype: int64\n",
      "172.26.3.214\n"
     ]
    },
    {
     "data": {
      "text/plain": "       log_index     ip_address timestamp_localised   sess_duration  session  \\\n0          23415   172.17.53.23 2023-11-06 12:33:41             NaT        1   \n1          23416   172.17.53.23 2023-11-06 12:33:41 0 days 00:00:00        1   \n2          23417   172.17.53.23 2023-11-06 12:33:41 0 days 00:00:00        1   \n3          23418   172.17.53.23 2023-11-06 12:33:41 0 days 00:00:00        1   \n4          23419   172.17.53.23 2023-11-06 12:33:41 0 days 00:00:00        1   \n...          ...            ...                 ...             ...      ...   \n38592      26926  192.168.193.6 2023-11-06 14:26:51 0 days 00:03:50        1   \n38593      26927  192.168.193.6 2023-11-06 14:26:51 0 days 00:00:00        1   \n38594      26928  192.168.193.6 2023-11-06 14:26:51 0 days 00:00:00        1   \n38595      26929  192.168.193.6 2023-11-06 14:26:51 0 days 00:00:00        1   \n38596      26930  192.168.193.6 2023-11-06 14:26:51 0 days 00:00:00        1   \n\n      method                                 request_line http_version  \\\n0        GET                                 /scan_m/fog/     HTTP/2.0   \n1        GET                /scan_m/fog/css/component.css     HTTP/2.0   \n2        GET                       /scan_m/fog/css/ol.css     HTTP/2.0   \n3        GET         /scan_m/fog/theme/default/style2.css     HTTP/2.0   \n4        GET  /scan_m/fog/theme/default/jquery-ui.min.css     HTTP/2.0   \n...      ...                                          ...          ...   \n38592   POST                   /wdc2.0/php/get_states.php     HTTP/2.0   \n38593   POST                    /wdc2.0/php/get_heads.php     HTTP/2.0   \n38594   POST                   /wdc2.0/php/get_states.php     HTTP/2.0   \n38595   POST                    /wdc2.0/php/get_heads.php     HTTP/2.0   \n38596    GET              /wdc2.0/php/get_project_all.php     HTTP/2.0   \n\n      status_code bytes_transferred  \\\n0             200              8309   \n1             200              1159   \n2             200              2313   \n3             200              4345   \n4             200              8343   \n...           ...               ...   \n38592         200               355   \n38593         200               329   \n38594         200               355   \n38595         200               329   \n38596         200           6768368   \n\n                                               referer  \\\n0                                                    -   \n1      https://bhuvan-staging1.nrsc.gov.in/scan_m/fog/   \n2      https://bhuvan-staging1.nrsc.gov.in/scan_m/fog/   \n3      https://bhuvan-staging1.nrsc.gov.in/scan_m/fog/   \n4      https://bhuvan-staging1.nrsc.gov.in/scan_m/fog/   \n...                                                ...   \n38592      https://bhuvan-staging1.nrsc.gov.in/wdc2.0/   \n38593      https://bhuvan-staging1.nrsc.gov.in/wdc2.0/   \n38594      https://bhuvan-staging1.nrsc.gov.in/wdc2.0/   \n38595      https://bhuvan-staging1.nrsc.gov.in/wdc2.0/   \n38596      https://bhuvan-staging1.nrsc.gov.in/wdc2.0/   \n\n                                              user_agent   timezone  \\\n0      Mozilla/5.0 (Windows NT 10.0; Win64; x64) Appl...  UTC+05:30   \n1      Mozilla/5.0 (Windows NT 10.0; Win64; x64) Appl...  UTC+05:30   \n2      Mozilla/5.0 (Windows NT 10.0; Win64; x64) Appl...  UTC+05:30   \n3      Mozilla/5.0 (Windows NT 10.0; Win64; x64) Appl...  UTC+05:30   \n4      Mozilla/5.0 (Windows NT 10.0; Win64; x64) Appl...  UTC+05:30   \n...                                                  ...        ...   \n38592  Mozilla/5.0 (Windows NT 10.0; Win64; x64) Appl...  UTC+05:30   \n38593  Mozilla/5.0 (Windows NT 10.0; Win64; x64) Appl...  UTC+05:30   \n38594  Mozilla/5.0 (Windows NT 10.0; Win64; x64) Appl...  UTC+05:30   \n38595  Mozilla/5.0 (Windows NT 10.0; Win64; x64) Appl...  UTC+05:30   \n38596  Mozilla/5.0 (Windows NT 10.0; Win64; x64) Appl...  UTC+05:30   \n\n                      timestamp  \n0     2023-11-06 12:33:41+05:30  \n1     2023-11-06 12:33:41+05:30  \n2     2023-11-06 12:33:41+05:30  \n3     2023-11-06 12:33:41+05:30  \n4     2023-11-06 12:33:41+05:30  \n...                         ...  \n38592 2023-11-06 14:26:51+05:30  \n38593 2023-11-06 14:26:51+05:30  \n38594 2023-11-06 14:26:51+05:30  \n38595 2023-11-06 14:26:51+05:30  \n38596 2023-11-06 14:26:51+05:30  \n\n[38597 rows x 14 columns]",
      "text/html": "<div>\n<style scoped>\n    .dataframe tbody tr th:only-of-type {\n        vertical-align: middle;\n    }\n\n    .dataframe tbody tr th {\n        vertical-align: top;\n    }\n\n    .dataframe thead th {\n        text-align: right;\n    }\n</style>\n<table border=\"1\" class=\"dataframe\">\n  <thead>\n    <tr style=\"text-align: right;\">\n      <th></th>\n      <th>log_index</th>\n      <th>ip_address</th>\n      <th>timestamp_localised</th>\n      <th>sess_duration</th>\n      <th>session</th>\n      <th>method</th>\n      <th>request_line</th>\n      <th>http_version</th>\n      <th>status_code</th>\n      <th>bytes_transferred</th>\n      <th>referer</th>\n      <th>user_agent</th>\n      <th>timezone</th>\n      <th>timestamp</th>\n    </tr>\n  </thead>\n  <tbody>\n    <tr>\n      <th>0</th>\n      <td>23415</td>\n      <td>172.17.53.23</td>\n      <td>2023-11-06 12:33:41</td>\n      <td>NaT</td>\n      <td>1</td>\n      <td>GET</td>\n      <td>/scan_m/fog/</td>\n      <td>HTTP/2.0</td>\n      <td>200</td>\n      <td>8309</td>\n      <td>-</td>\n      <td>Mozilla/5.0 (Windows NT 10.0; Win64; x64) Appl...</td>\n      <td>UTC+05:30</td>\n      <td>2023-11-06 12:33:41+05:30</td>\n    </tr>\n    <tr>\n      <th>1</th>\n      <td>23416</td>\n      <td>172.17.53.23</td>\n      <td>2023-11-06 12:33:41</td>\n      <td>0 days 00:00:00</td>\n      <td>1</td>\n      <td>GET</td>\n      <td>/scan_m/fog/css/component.css</td>\n      <td>HTTP/2.0</td>\n      <td>200</td>\n      <td>1159</td>\n      <td>https://bhuvan-staging1.nrsc.gov.in/scan_m/fog/</td>\n      <td>Mozilla/5.0 (Windows NT 10.0; Win64; x64) Appl...</td>\n      <td>UTC+05:30</td>\n      <td>2023-11-06 12:33:41+05:30</td>\n    </tr>\n    <tr>\n      <th>2</th>\n      <td>23417</td>\n      <td>172.17.53.23</td>\n      <td>2023-11-06 12:33:41</td>\n      <td>0 days 00:00:00</td>\n      <td>1</td>\n      <td>GET</td>\n      <td>/scan_m/fog/css/ol.css</td>\n      <td>HTTP/2.0</td>\n      <td>200</td>\n      <td>2313</td>\n      <td>https://bhuvan-staging1.nrsc.gov.in/scan_m/fog/</td>\n      <td>Mozilla/5.0 (Windows NT 10.0; Win64; x64) Appl...</td>\n      <td>UTC+05:30</td>\n      <td>2023-11-06 12:33:41+05:30</td>\n    </tr>\n    <tr>\n      <th>3</th>\n      <td>23418</td>\n      <td>172.17.53.23</td>\n      <td>2023-11-06 12:33:41</td>\n      <td>0 days 00:00:00</td>\n      <td>1</td>\n      <td>GET</td>\n      <td>/scan_m/fog/theme/default/style2.css</td>\n      <td>HTTP/2.0</td>\n      <td>200</td>\n      <td>4345</td>\n      <td>https://bhuvan-staging1.nrsc.gov.in/scan_m/fog/</td>\n      <td>Mozilla/5.0 (Windows NT 10.0; Win64; x64) Appl...</td>\n      <td>UTC+05:30</td>\n      <td>2023-11-06 12:33:41+05:30</td>\n    </tr>\n    <tr>\n      <th>4</th>\n      <td>23419</td>\n      <td>172.17.53.23</td>\n      <td>2023-11-06 12:33:41</td>\n      <td>0 days 00:00:00</td>\n      <td>1</td>\n      <td>GET</td>\n      <td>/scan_m/fog/theme/default/jquery-ui.min.css</td>\n      <td>HTTP/2.0</td>\n      <td>200</td>\n      <td>8343</td>\n      <td>https://bhuvan-staging1.nrsc.gov.in/scan_m/fog/</td>\n      <td>Mozilla/5.0 (Windows NT 10.0; Win64; x64) Appl...</td>\n      <td>UTC+05:30</td>\n      <td>2023-11-06 12:33:41+05:30</td>\n    </tr>\n    <tr>\n      <th>...</th>\n      <td>...</td>\n      <td>...</td>\n      <td>...</td>\n      <td>...</td>\n      <td>...</td>\n      <td>...</td>\n      <td>...</td>\n      <td>...</td>\n      <td>...</td>\n      <td>...</td>\n      <td>...</td>\n      <td>...</td>\n      <td>...</td>\n      <td>...</td>\n    </tr>\n    <tr>\n      <th>38592</th>\n      <td>26926</td>\n      <td>192.168.193.6</td>\n      <td>2023-11-06 14:26:51</td>\n      <td>0 days 00:03:50</td>\n      <td>1</td>\n      <td>POST</td>\n      <td>/wdc2.0/php/get_states.php</td>\n      <td>HTTP/2.0</td>\n      <td>200</td>\n      <td>355</td>\n      <td>https://bhuvan-staging1.nrsc.gov.in/wdc2.0/</td>\n      <td>Mozilla/5.0 (Windows NT 10.0; Win64; x64) Appl...</td>\n      <td>UTC+05:30</td>\n      <td>2023-11-06 14:26:51+05:30</td>\n    </tr>\n    <tr>\n      <th>38593</th>\n      <td>26927</td>\n      <td>192.168.193.6</td>\n      <td>2023-11-06 14:26:51</td>\n      <td>0 days 00:00:00</td>\n      <td>1</td>\n      <td>POST</td>\n      <td>/wdc2.0/php/get_heads.php</td>\n      <td>HTTP/2.0</td>\n      <td>200</td>\n      <td>329</td>\n      <td>https://bhuvan-staging1.nrsc.gov.in/wdc2.0/</td>\n      <td>Mozilla/5.0 (Windows NT 10.0; Win64; x64) Appl...</td>\n      <td>UTC+05:30</td>\n      <td>2023-11-06 14:26:51+05:30</td>\n    </tr>\n    <tr>\n      <th>38594</th>\n      <td>26928</td>\n      <td>192.168.193.6</td>\n      <td>2023-11-06 14:26:51</td>\n      <td>0 days 00:00:00</td>\n      <td>1</td>\n      <td>POST</td>\n      <td>/wdc2.0/php/get_states.php</td>\n      <td>HTTP/2.0</td>\n      <td>200</td>\n      <td>355</td>\n      <td>https://bhuvan-staging1.nrsc.gov.in/wdc2.0/</td>\n      <td>Mozilla/5.0 (Windows NT 10.0; Win64; x64) Appl...</td>\n      <td>UTC+05:30</td>\n      <td>2023-11-06 14:26:51+05:30</td>\n    </tr>\n    <tr>\n      <th>38595</th>\n      <td>26929</td>\n      <td>192.168.193.6</td>\n      <td>2023-11-06 14:26:51</td>\n      <td>0 days 00:00:00</td>\n      <td>1</td>\n      <td>POST</td>\n      <td>/wdc2.0/php/get_heads.php</td>\n      <td>HTTP/2.0</td>\n      <td>200</td>\n      <td>329</td>\n      <td>https://bhuvan-staging1.nrsc.gov.in/wdc2.0/</td>\n      <td>Mozilla/5.0 (Windows NT 10.0; Win64; x64) Appl...</td>\n      <td>UTC+05:30</td>\n      <td>2023-11-06 14:26:51+05:30</td>\n    </tr>\n    <tr>\n      <th>38596</th>\n      <td>26930</td>\n      <td>192.168.193.6</td>\n      <td>2023-11-06 14:26:51</td>\n      <td>0 days 00:00:00</td>\n      <td>1</td>\n      <td>GET</td>\n      <td>/wdc2.0/php/get_project_all.php</td>\n      <td>HTTP/2.0</td>\n      <td>200</td>\n      <td>6768368</td>\n      <td>https://bhuvan-staging1.nrsc.gov.in/wdc2.0/</td>\n      <td>Mozilla/5.0 (Windows NT 10.0; Win64; x64) Appl...</td>\n      <td>UTC+05:30</td>\n      <td>2023-11-06 14:26:51+05:30</td>\n    </tr>\n  </tbody>\n</table>\n<p>38597 rows × 14 columns</p>\n</div>"
     },
     "execution_count": 1587,
     "metadata": {},
     "output_type": "execute_result"
    }
   ],
   "source": [
    "logs_df['sess_duration'] = logs_df.groupby('ip_address')['timestamp'].diff()\n",
    "# logs_df \n",
    "timestamp_series = logs_df['timestamp'].sort_values(ascending=False)\n",
    "# timestamp_series\n",
    "logs_df['session'] = 1\n",
    "print(type(logs_df['sess_duration'][1]),type(pd.to_datetime(\"00:30:00 +05:30\",format= \"%H:%M:%S %z\")))\n",
    "print(type(logs_df['sess_duration'][5]),type(timedelta(minutes=30)))\n",
    "# print(type(np.datetime64('NaT')))\n",
    "# print(type(np.NAN))\n",
    "nat_type = type(logs_df['sess_duration'][1])\n",
    "logs_df.loc[ (type(logs_df['sess_duration']) != type(logs_df['sess_duration'][1])) and\n",
    "            (logs_df['sess_duration'] > timedelta(minutes=30)),\n",
    "            'session'] = 0\n",
    "# (logs_df['sess_duration'] != np.datetime64('NaT') )\n",
    "# (logs_df['sess_duration'] > pd.to_datetime(\"00:30:00+05:30\",format= \"%H:%M:%S%z\"))\n",
    "# (logs_df['sess_duration'] > timedelta(minutes=30))\n",
    "\n",
    "logs_df = logs_df.reset_index()\n",
    "\n",
    "session_index = logs_df.columns.get_indexer_for(target=['session'])\n",
    "#after these !=5 if only log_indices , same ip_address but log_index changes index doesnt change , the next log_index is of other ip_address\n",
    "end_indices = logs_df.loc[logs_df['session'] == 0].index\n",
    "print(end_indices)\n",
    "print(logs_df.iloc[end_indices[0], session_index] )\n",
    "for idx in end_indices:\n",
    "    if ((logs_df.iloc[idx+1, session_index].item() != logs_df.iloc[idx, session_index].item() ) & \n",
    "            (logs_df.iloc[idx, session_index].item() == 0)):\n",
    "        logs_df.iloc[idx+1, session_index] = 5 \n",
    "\n",
    "end_log_indices = logs_df.loc[logs_df['session'] == 0]['log_index']\n",
    "print(end_log_indices+1)\n",
    "for idx in end_log_indices:\n",
    "    # print(idx, logs_df.iloc[idx,:])\n",
    "    # print(idx)\n",
    "    if (logs_df.loc[logs_df['log_index'] == idx+1 ]['ip_address'].item() == \n",
    "            logs_df.loc[logs_df['log_index'] == idx ]['ip_address'].item() ):\n",
    "        logs_df.loc[logs_df['log_index'] == idx+1 , 'session'] = 5 \n",
    "    # if ():\n",
    "    #     #can use at (rather than loc) - more fast \n",
    "print(logs_df.loc[logs_df['log_index'] == 22058 ]['ip_address'].item())\n",
    "    \n",
    "# print(logs_df.columns)\n",
    "logs_df = logs_df[['log_index', 'ip_address', 'timestamp_localised', 'sess_duration', 'session', 'method', 'request_line','http_version', 'status_code', 'bytes_transferred', 'referer', 'user_agent', 'timezone','timestamp'\n",
    "       ]]\n",
    "logs_df\n",
    "# logs_df.loc[logs_df['log_index'] == 22058 ]['ip_address']"
   ]
  },
  {
   "cell_type": "code",
   "execution_count": 1588,
   "id": "f9e9933900b6d749",
   "metadata": {
    "ExecuteTime": {
     "end_time": "2023-12-23T20:46:25.161116500Z",
     "start_time": "2023-12-23T20:46:24.965064500Z"
    }
   },
   "outputs": [],
   "source": [
    "#drop-off points\n",
    "ip_end_df = logs_df.drop_duplicates(subset='ip_address',keep='last')\n",
    "ip_start_df = logs_df.drop_duplicates(subset='ip_address',keep='first')\n",
    "# ip_df = pd.concat([ip_end_df,ip_start_df],axis=0)\n",
    "# ip_df.sort_values(by=['ip_address','timestamp_localised'])\n",
    "# logs_df.loc[ip_start_df.iloc[:,0].index,['session']] = 'start'\n",
    "# session_index = logs_df.columns.get_indexer_for(target=['session'])\n",
    "# session_index = logs_df.columns.tolist().index('session')\n",
    "# print(session_index,logs_df.columns)\n",
    "ip_start_indices = ip_start_df['log_index']\n",
    "for idx in ip_start_indices:\n",
    "    logs_df.loc[logs_df['log_index'] == idx, 'session'] = 5\n",
    "ip_end_indices = ip_end_df['log_index']\n",
    "for idx in ip_end_indices:\n",
    "    logs_df.loc[logs_df['log_index'] == idx, 'session'] = 0\n",
    "# logs_df.loc[(logs_df['session'] == 0), ]\n",
    "# ip_start_df\n",
    "# logs_df['session']\n",
    "# print(logs_df.iloc[idx+1,session_index])"
   ]
  },
  {
   "cell_type": "code",
   "execution_count": 1589,
   "outputs": [
    {
     "name": "stdout",
     "output_type": "stream",
     "text": [
      "35 32 67\n",
      "2023-11-06 12:33:42\n",
      "[0, 32, 33, 772, 773, 848, 849, 860, 861, 895, 896, 13313, 13314, 13381, 13382, 13394, 13395, 13396, 13397, 13398, 13399, 13400, 13463, 13464, 13487, 13488, 13502, 13503, 13637, 13638, 13867, 13868, 14254, 14255, 14302, 14303, 14320, 14321, 25871, 25872, 25873, 26465, 26466, 26509, 26510, 26523, 26524, 26715, 26716, 26779, 26780, 26832, 26833, 33637, 33638, 36332, 36333, 36541, 36542, 37850, 37851, 38310, 38311, 38312, 38418, 38419, 38596]\n"
     ]
    },
    {
     "data": {
      "text/plain": "    index  log_index      ip_address timestamp_localised  \\\n0       0      23415    172.17.53.23 2023-11-06 12:33:41   \n1      32      23447    172.17.53.23 2023-11-06 12:33:42   \n2      33          1    172.26.3.200 2023-11-06 00:00:03   \n3     772      28132    172.26.3.200 2023-11-06 15:38:43   \n4     773      28133    172.26.3.200 2023-11-06 15:38:43   \n..    ...        ...             ...                 ...   \n62  38311      33039  192.168.193.36 2023-11-06 17:02:11   \n63  38312       1073   192.168.193.6 2023-11-06 09:29:48   \n64  38418      25854   192.168.193.6 2023-11-06 14:10:35   \n65  38419      25855   192.168.193.6 2023-11-06 14:10:35   \n66  38596      26930   192.168.193.6 2023-11-06 14:26:51   \n\n                                         request_line  session  session_no.  \\\n0                                        /scan_m/fog/        5            0   \n1                                        /favicon.ico        0            1   \n2                                                /rbi        5            2   \n3                                                /rbi        0            3   \n4                                               /rbi/        5            4   \n..                                                ...      ...          ...   \n62                    /wdc2.0/php/get_project_all.php        0           62   \n63  /wdc2.0/static/media/spritesheet.a4e0eb7ad904a...        5           63   \n64                         /wdc2.0/php/get_states.php        0           64   \n65                     /wdc2.0//php/get_userroles.php        5           65   \n66                    /wdc2.0/php/get_project_all.php        0           66   \n\n         session_start         session_end session_duration  \n0  2023-11-06 12:33:41 2023-11-06 12:33:42  0 days 00:00:01  \n1  2023-11-06 12:33:42                 NaT              NaT  \n2  2023-11-06 00:00:03 2023-11-06 15:38:43  0 days 15:38:40  \n3  2023-11-06 15:38:43 2023-11-06 15:38:43  0 days 00:00:00  \n4  2023-11-06 15:38:43 2023-11-06 18:01:12  0 days 02:22:29  \n..                 ...                 ...              ...  \n62 2023-11-06 17:02:11                 NaT              NaT  \n63 2023-11-06 09:29:48 2023-11-06 14:10:35  0 days 04:40:47  \n64 2023-11-06 14:10:35 2023-11-06 14:10:35  0 days 00:00:00  \n65 2023-11-06 14:10:35 2023-11-06 14:26:51  0 days 00:16:16  \n66 2023-11-06 14:26:51                 NaT              NaT  \n\n[67 rows x 10 columns]",
      "text/html": "<div>\n<style scoped>\n    .dataframe tbody tr th:only-of-type {\n        vertical-align: middle;\n    }\n\n    .dataframe tbody tr th {\n        vertical-align: top;\n    }\n\n    .dataframe thead th {\n        text-align: right;\n    }\n</style>\n<table border=\"1\" class=\"dataframe\">\n  <thead>\n    <tr style=\"text-align: right;\">\n      <th></th>\n      <th>index</th>\n      <th>log_index</th>\n      <th>ip_address</th>\n      <th>timestamp_localised</th>\n      <th>request_line</th>\n      <th>session</th>\n      <th>session_no.</th>\n      <th>session_start</th>\n      <th>session_end</th>\n      <th>session_duration</th>\n    </tr>\n  </thead>\n  <tbody>\n    <tr>\n      <th>0</th>\n      <td>0</td>\n      <td>23415</td>\n      <td>172.17.53.23</td>\n      <td>2023-11-06 12:33:41</td>\n      <td>/scan_m/fog/</td>\n      <td>5</td>\n      <td>0</td>\n      <td>2023-11-06 12:33:41</td>\n      <td>2023-11-06 12:33:42</td>\n      <td>0 days 00:00:01</td>\n    </tr>\n    <tr>\n      <th>1</th>\n      <td>32</td>\n      <td>23447</td>\n      <td>172.17.53.23</td>\n      <td>2023-11-06 12:33:42</td>\n      <td>/favicon.ico</td>\n      <td>0</td>\n      <td>1</td>\n      <td>2023-11-06 12:33:42</td>\n      <td>NaT</td>\n      <td>NaT</td>\n    </tr>\n    <tr>\n      <th>2</th>\n      <td>33</td>\n      <td>1</td>\n      <td>172.26.3.200</td>\n      <td>2023-11-06 00:00:03</td>\n      <td>/rbi</td>\n      <td>5</td>\n      <td>2</td>\n      <td>2023-11-06 00:00:03</td>\n      <td>2023-11-06 15:38:43</td>\n      <td>0 days 15:38:40</td>\n    </tr>\n    <tr>\n      <th>3</th>\n      <td>772</td>\n      <td>28132</td>\n      <td>172.26.3.200</td>\n      <td>2023-11-06 15:38:43</td>\n      <td>/rbi</td>\n      <td>0</td>\n      <td>3</td>\n      <td>2023-11-06 15:38:43</td>\n      <td>2023-11-06 15:38:43</td>\n      <td>0 days 00:00:00</td>\n    </tr>\n    <tr>\n      <th>4</th>\n      <td>773</td>\n      <td>28133</td>\n      <td>172.26.3.200</td>\n      <td>2023-11-06 15:38:43</td>\n      <td>/rbi/</td>\n      <td>5</td>\n      <td>4</td>\n      <td>2023-11-06 15:38:43</td>\n      <td>2023-11-06 18:01:12</td>\n      <td>0 days 02:22:29</td>\n    </tr>\n    <tr>\n      <th>...</th>\n      <td>...</td>\n      <td>...</td>\n      <td>...</td>\n      <td>...</td>\n      <td>...</td>\n      <td>...</td>\n      <td>...</td>\n      <td>...</td>\n      <td>...</td>\n      <td>...</td>\n    </tr>\n    <tr>\n      <th>62</th>\n      <td>38311</td>\n      <td>33039</td>\n      <td>192.168.193.36</td>\n      <td>2023-11-06 17:02:11</td>\n      <td>/wdc2.0/php/get_project_all.php</td>\n      <td>0</td>\n      <td>62</td>\n      <td>2023-11-06 17:02:11</td>\n      <td>NaT</td>\n      <td>NaT</td>\n    </tr>\n    <tr>\n      <th>63</th>\n      <td>38312</td>\n      <td>1073</td>\n      <td>192.168.193.6</td>\n      <td>2023-11-06 09:29:48</td>\n      <td>/wdc2.0/static/media/spritesheet.a4e0eb7ad904a...</td>\n      <td>5</td>\n      <td>63</td>\n      <td>2023-11-06 09:29:48</td>\n      <td>2023-11-06 14:10:35</td>\n      <td>0 days 04:40:47</td>\n    </tr>\n    <tr>\n      <th>64</th>\n      <td>38418</td>\n      <td>25854</td>\n      <td>192.168.193.6</td>\n      <td>2023-11-06 14:10:35</td>\n      <td>/wdc2.0/php/get_states.php</td>\n      <td>0</td>\n      <td>64</td>\n      <td>2023-11-06 14:10:35</td>\n      <td>2023-11-06 14:10:35</td>\n      <td>0 days 00:00:00</td>\n    </tr>\n    <tr>\n      <th>65</th>\n      <td>38419</td>\n      <td>25855</td>\n      <td>192.168.193.6</td>\n      <td>2023-11-06 14:10:35</td>\n      <td>/wdc2.0//php/get_userroles.php</td>\n      <td>5</td>\n      <td>65</td>\n      <td>2023-11-06 14:10:35</td>\n      <td>2023-11-06 14:26:51</td>\n      <td>0 days 00:16:16</td>\n    </tr>\n    <tr>\n      <th>66</th>\n      <td>38596</td>\n      <td>26930</td>\n      <td>192.168.193.6</td>\n      <td>2023-11-06 14:26:51</td>\n      <td>/wdc2.0/php/get_project_all.php</td>\n      <td>0</td>\n      <td>66</td>\n      <td>2023-11-06 14:26:51</td>\n      <td>NaT</td>\n      <td>NaT</td>\n    </tr>\n  </tbody>\n</table>\n<p>67 rows × 10 columns</p>\n</div>"
     },
     "execution_count": 1589,
     "metadata": {},
     "output_type": "execute_result"
    }
   ],
   "source": [
    "session_logs_df = logs_df.loc[(logs_df['session'] == 0) | (logs_df['session'] == 5) ]\n",
    "session_start_df = logs_df.loc[(logs_df['session'] == 5) ]\n",
    "session_end_df = logs_df.loc[(logs_df['session'] == 0) ]\n",
    "print(len(session_end_df), len(session_start_df), len(session_logs_df))\n",
    "session_logs_df\n",
    "session_df = session_logs_df[['log_index','ip_address','timestamp_localised','request_line','session']]\n",
    "print(session_df['timestamp_localised'].tolist()[1])\n",
    "session_df = session_df.reset_index()\n",
    "session_df['session_no.'] = session_df.index\n",
    "# session_df['session_start'] = session_df['timestamp_localised']\n",
    "# session_df['sesion_end'] = session_df['timestamp_localised'].shift(-1)\n",
    "# Shifting within each group based on 'ip_address'\n",
    "session_df['session_start'] = session_df.groupby('ip_address')['timestamp_localised'].transform(lambda x: x)\n",
    "session_df['session_end'] = session_df.groupby('ip_address')['timestamp_localised'].transform(lambda x: x.shift(-1))\n",
    "session_df['session_duration'] = session_df['session_end'] - session_df['session_start'] \n",
    "print(session_df['index'].tolist())\n",
    "session_df"
   ],
   "metadata": {
    "collapsed": false,
    "ExecuteTime": {
     "end_time": "2023-12-23T20:46:25.161116500Z",
     "start_time": "2023-12-23T20:46:24.997680700Z"
    }
   },
   "id": "934546ef22e9299a"
  },
  {
   "cell_type": "code",
   "execution_count": 1590,
   "outputs": [
    {
     "name": "stdout",
     "output_type": "stream",
     "text": [
      "0\n"
     ]
    },
    {
     "name": "stderr",
     "output_type": "stream",
     "text": [
      "C:\\Users\\yashs\\AppData\\Local\\Temp\\ipykernel_36472\\820173876.py:5: SettingWithCopyWarning: \n",
      "A value is trying to be set on a copy of a slice from a DataFrame\n",
      "\n",
      "See the caveats in the documentation: https://pandas.pydata.org/pandas-docs/stable/user_guide/indexing.html#returning-a-view-versus-a-copy\n",
      "  logs_df['session_no.'][i] = session_no\n"
     ]
    },
    {
     "name": "stdout",
     "output_type": "stream",
     "text": [
      "34.0 1135\n"
     ]
    },
    {
     "data": {
      "text/plain": "       log_index     ip_address timestamp_localised   sess_duration  session  \\\n0          23415   172.17.53.23 2023-11-06 12:33:41             NaT        5   \n1          23416   172.17.53.23 2023-11-06 12:33:41 0 days 00:00:00        1   \n2          23417   172.17.53.23 2023-11-06 12:33:41 0 days 00:00:00        1   \n3          23418   172.17.53.23 2023-11-06 12:33:41 0 days 00:00:00        1   \n4          23419   172.17.53.23 2023-11-06 12:33:41 0 days 00:00:00        1   \n...          ...            ...                 ...             ...      ...   \n38592      26926  192.168.193.6 2023-11-06 14:26:51 0 days 00:03:50        1   \n38593      26927  192.168.193.6 2023-11-06 14:26:51 0 days 00:00:00        1   \n38594      26928  192.168.193.6 2023-11-06 14:26:51 0 days 00:00:00        1   \n38595      26929  192.168.193.6 2023-11-06 14:26:51 0 days 00:00:00        1   \n38596      26930  192.168.193.6 2023-11-06 14:26:51 0 days 00:00:00        0   \n\n      method                                 request_line http_version  \\\n0        GET                                 /scan_m/fog/     HTTP/2.0   \n1        GET                /scan_m/fog/css/component.css     HTTP/2.0   \n2        GET                       /scan_m/fog/css/ol.css     HTTP/2.0   \n3        GET         /scan_m/fog/theme/default/style2.css     HTTP/2.0   \n4        GET  /scan_m/fog/theme/default/jquery-ui.min.css     HTTP/2.0   \n...      ...                                          ...          ...   \n38592   POST                   /wdc2.0/php/get_states.php     HTTP/2.0   \n38593   POST                    /wdc2.0/php/get_heads.php     HTTP/2.0   \n38594   POST                   /wdc2.0/php/get_states.php     HTTP/2.0   \n38595   POST                    /wdc2.0/php/get_heads.php     HTTP/2.0   \n38596    GET              /wdc2.0/php/get_project_all.php     HTTP/2.0   \n\n      status_code bytes_transferred  \\\n0             200              8309   \n1             200              1159   \n2             200              2313   \n3             200              4345   \n4             200              8343   \n...           ...               ...   \n38592         200               355   \n38593         200               329   \n38594         200               355   \n38595         200               329   \n38596         200           6768368   \n\n                                               referer  \\\n0                                                    -   \n1      https://bhuvan-staging1.nrsc.gov.in/scan_m/fog/   \n2      https://bhuvan-staging1.nrsc.gov.in/scan_m/fog/   \n3      https://bhuvan-staging1.nrsc.gov.in/scan_m/fog/   \n4      https://bhuvan-staging1.nrsc.gov.in/scan_m/fog/   \n...                                                ...   \n38592      https://bhuvan-staging1.nrsc.gov.in/wdc2.0/   \n38593      https://bhuvan-staging1.nrsc.gov.in/wdc2.0/   \n38594      https://bhuvan-staging1.nrsc.gov.in/wdc2.0/   \n38595      https://bhuvan-staging1.nrsc.gov.in/wdc2.0/   \n38596      https://bhuvan-staging1.nrsc.gov.in/wdc2.0/   \n\n                                              user_agent   timezone  \\\n0      Mozilla/5.0 (Windows NT 10.0; Win64; x64) Appl...  UTC+05:30   \n1      Mozilla/5.0 (Windows NT 10.0; Win64; x64) Appl...  UTC+05:30   \n2      Mozilla/5.0 (Windows NT 10.0; Win64; x64) Appl...  UTC+05:30   \n3      Mozilla/5.0 (Windows NT 10.0; Win64; x64) Appl...  UTC+05:30   \n4      Mozilla/5.0 (Windows NT 10.0; Win64; x64) Appl...  UTC+05:30   \n...                                                  ...        ...   \n38592  Mozilla/5.0 (Windows NT 10.0; Win64; x64) Appl...  UTC+05:30   \n38593  Mozilla/5.0 (Windows NT 10.0; Win64; x64) Appl...  UTC+05:30   \n38594  Mozilla/5.0 (Windows NT 10.0; Win64; x64) Appl...  UTC+05:30   \n38595  Mozilla/5.0 (Windows NT 10.0; Win64; x64) Appl...  UTC+05:30   \n38596  Mozilla/5.0 (Windows NT 10.0; Win64; x64) Appl...  UTC+05:30   \n\n                      timestamp  session_no.  \n0     2023-11-06 12:33:41+05:30            0  \n1     2023-11-06 12:33:41+05:30            0  \n2     2023-11-06 12:33:41+05:30            0  \n3     2023-11-06 12:33:41+05:30            0  \n4     2023-11-06 12:33:41+05:30            0  \n...                         ...          ...  \n38592 2023-11-06 14:26:51+05:30           34  \n38593 2023-11-06 14:26:51+05:30           34  \n38594 2023-11-06 14:26:51+05:30           34  \n38595 2023-11-06 14:26:51+05:30           34  \n38596 2023-11-06 14:26:51+05:30           34  \n\n[38597 rows x 15 columns]",
      "text/html": "<div>\n<style scoped>\n    .dataframe tbody tr th:only-of-type {\n        vertical-align: middle;\n    }\n\n    .dataframe tbody tr th {\n        vertical-align: top;\n    }\n\n    .dataframe thead th {\n        text-align: right;\n    }\n</style>\n<table border=\"1\" class=\"dataframe\">\n  <thead>\n    <tr style=\"text-align: right;\">\n      <th></th>\n      <th>log_index</th>\n      <th>ip_address</th>\n      <th>timestamp_localised</th>\n      <th>sess_duration</th>\n      <th>session</th>\n      <th>method</th>\n      <th>request_line</th>\n      <th>http_version</th>\n      <th>status_code</th>\n      <th>bytes_transferred</th>\n      <th>referer</th>\n      <th>user_agent</th>\n      <th>timezone</th>\n      <th>timestamp</th>\n      <th>session_no.</th>\n    </tr>\n  </thead>\n  <tbody>\n    <tr>\n      <th>0</th>\n      <td>23415</td>\n      <td>172.17.53.23</td>\n      <td>2023-11-06 12:33:41</td>\n      <td>NaT</td>\n      <td>5</td>\n      <td>GET</td>\n      <td>/scan_m/fog/</td>\n      <td>HTTP/2.0</td>\n      <td>200</td>\n      <td>8309</td>\n      <td>-</td>\n      <td>Mozilla/5.0 (Windows NT 10.0; Win64; x64) Appl...</td>\n      <td>UTC+05:30</td>\n      <td>2023-11-06 12:33:41+05:30</td>\n      <td>0</td>\n    </tr>\n    <tr>\n      <th>1</th>\n      <td>23416</td>\n      <td>172.17.53.23</td>\n      <td>2023-11-06 12:33:41</td>\n      <td>0 days 00:00:00</td>\n      <td>1</td>\n      <td>GET</td>\n      <td>/scan_m/fog/css/component.css</td>\n      <td>HTTP/2.0</td>\n      <td>200</td>\n      <td>1159</td>\n      <td>https://bhuvan-staging1.nrsc.gov.in/scan_m/fog/</td>\n      <td>Mozilla/5.0 (Windows NT 10.0; Win64; x64) Appl...</td>\n      <td>UTC+05:30</td>\n      <td>2023-11-06 12:33:41+05:30</td>\n      <td>0</td>\n    </tr>\n    <tr>\n      <th>2</th>\n      <td>23417</td>\n      <td>172.17.53.23</td>\n      <td>2023-11-06 12:33:41</td>\n      <td>0 days 00:00:00</td>\n      <td>1</td>\n      <td>GET</td>\n      <td>/scan_m/fog/css/ol.css</td>\n      <td>HTTP/2.0</td>\n      <td>200</td>\n      <td>2313</td>\n      <td>https://bhuvan-staging1.nrsc.gov.in/scan_m/fog/</td>\n      <td>Mozilla/5.0 (Windows NT 10.0; Win64; x64) Appl...</td>\n      <td>UTC+05:30</td>\n      <td>2023-11-06 12:33:41+05:30</td>\n      <td>0</td>\n    </tr>\n    <tr>\n      <th>3</th>\n      <td>23418</td>\n      <td>172.17.53.23</td>\n      <td>2023-11-06 12:33:41</td>\n      <td>0 days 00:00:00</td>\n      <td>1</td>\n      <td>GET</td>\n      <td>/scan_m/fog/theme/default/style2.css</td>\n      <td>HTTP/2.0</td>\n      <td>200</td>\n      <td>4345</td>\n      <td>https://bhuvan-staging1.nrsc.gov.in/scan_m/fog/</td>\n      <td>Mozilla/5.0 (Windows NT 10.0; Win64; x64) Appl...</td>\n      <td>UTC+05:30</td>\n      <td>2023-11-06 12:33:41+05:30</td>\n      <td>0</td>\n    </tr>\n    <tr>\n      <th>4</th>\n      <td>23419</td>\n      <td>172.17.53.23</td>\n      <td>2023-11-06 12:33:41</td>\n      <td>0 days 00:00:00</td>\n      <td>1</td>\n      <td>GET</td>\n      <td>/scan_m/fog/theme/default/jquery-ui.min.css</td>\n      <td>HTTP/2.0</td>\n      <td>200</td>\n      <td>8343</td>\n      <td>https://bhuvan-staging1.nrsc.gov.in/scan_m/fog/</td>\n      <td>Mozilla/5.0 (Windows NT 10.0; Win64; x64) Appl...</td>\n      <td>UTC+05:30</td>\n      <td>2023-11-06 12:33:41+05:30</td>\n      <td>0</td>\n    </tr>\n    <tr>\n      <th>...</th>\n      <td>...</td>\n      <td>...</td>\n      <td>...</td>\n      <td>...</td>\n      <td>...</td>\n      <td>...</td>\n      <td>...</td>\n      <td>...</td>\n      <td>...</td>\n      <td>...</td>\n      <td>...</td>\n      <td>...</td>\n      <td>...</td>\n      <td>...</td>\n      <td>...</td>\n    </tr>\n    <tr>\n      <th>38592</th>\n      <td>26926</td>\n      <td>192.168.193.6</td>\n      <td>2023-11-06 14:26:51</td>\n      <td>0 days 00:03:50</td>\n      <td>1</td>\n      <td>POST</td>\n      <td>/wdc2.0/php/get_states.php</td>\n      <td>HTTP/2.0</td>\n      <td>200</td>\n      <td>355</td>\n      <td>https://bhuvan-staging1.nrsc.gov.in/wdc2.0/</td>\n      <td>Mozilla/5.0 (Windows NT 10.0; Win64; x64) Appl...</td>\n      <td>UTC+05:30</td>\n      <td>2023-11-06 14:26:51+05:30</td>\n      <td>34</td>\n    </tr>\n    <tr>\n      <th>38593</th>\n      <td>26927</td>\n      <td>192.168.193.6</td>\n      <td>2023-11-06 14:26:51</td>\n      <td>0 days 00:00:00</td>\n      <td>1</td>\n      <td>POST</td>\n      <td>/wdc2.0/php/get_heads.php</td>\n      <td>HTTP/2.0</td>\n      <td>200</td>\n      <td>329</td>\n      <td>https://bhuvan-staging1.nrsc.gov.in/wdc2.0/</td>\n      <td>Mozilla/5.0 (Windows NT 10.0; Win64; x64) Appl...</td>\n      <td>UTC+05:30</td>\n      <td>2023-11-06 14:26:51+05:30</td>\n      <td>34</td>\n    </tr>\n    <tr>\n      <th>38594</th>\n      <td>26928</td>\n      <td>192.168.193.6</td>\n      <td>2023-11-06 14:26:51</td>\n      <td>0 days 00:00:00</td>\n      <td>1</td>\n      <td>POST</td>\n      <td>/wdc2.0/php/get_states.php</td>\n      <td>HTTP/2.0</td>\n      <td>200</td>\n      <td>355</td>\n      <td>https://bhuvan-staging1.nrsc.gov.in/wdc2.0/</td>\n      <td>Mozilla/5.0 (Windows NT 10.0; Win64; x64) Appl...</td>\n      <td>UTC+05:30</td>\n      <td>2023-11-06 14:26:51+05:30</td>\n      <td>34</td>\n    </tr>\n    <tr>\n      <th>38595</th>\n      <td>26929</td>\n      <td>192.168.193.6</td>\n      <td>2023-11-06 14:26:51</td>\n      <td>0 days 00:00:00</td>\n      <td>1</td>\n      <td>POST</td>\n      <td>/wdc2.0/php/get_heads.php</td>\n      <td>HTTP/2.0</td>\n      <td>200</td>\n      <td>329</td>\n      <td>https://bhuvan-staging1.nrsc.gov.in/wdc2.0/</td>\n      <td>Mozilla/5.0 (Windows NT 10.0; Win64; x64) Appl...</td>\n      <td>UTC+05:30</td>\n      <td>2023-11-06 14:26:51+05:30</td>\n      <td>34</td>\n    </tr>\n    <tr>\n      <th>38596</th>\n      <td>26930</td>\n      <td>192.168.193.6</td>\n      <td>2023-11-06 14:26:51</td>\n      <td>0 days 00:00:00</td>\n      <td>0</td>\n      <td>GET</td>\n      <td>/wdc2.0/php/get_project_all.php</td>\n      <td>HTTP/2.0</td>\n      <td>200</td>\n      <td>6768368</td>\n      <td>https://bhuvan-staging1.nrsc.gov.in/wdc2.0/</td>\n      <td>Mozilla/5.0 (Windows NT 10.0; Win64; x64) Appl...</td>\n      <td>UTC+05:30</td>\n      <td>2023-11-06 14:26:51+05:30</td>\n      <td>34</td>\n    </tr>\n  </tbody>\n</table>\n<p>38597 rows × 15 columns</p>\n</div>"
     },
     "execution_count": 1590,
     "metadata": {},
     "output_type": "execute_result"
    }
   ],
   "source": [
    "session_no = 0\n",
    "logs_df['session_no.'] = 0\n",
    "print(logs_df['session_no.'][2])\n",
    "for i in range(len(logs_df)):\n",
    "    logs_df['session_no.'][i] = session_no\n",
    "    if (logs_df['session'][i].item() == 0):\n",
    "        session_no += 1\n",
    "total_sessions = (logs_df['session_no.'].describe()['max'])\n",
    "avg_requests = int(len(logs_df)/total_sessions)\n",
    "print(total_sessions, avg_requests)\n",
    "session_stats = session_df.describe()\n",
    "session_stats['session_duration']\n",
    "logs_df"
   ],
   "metadata": {
    "collapsed": false,
    "ExecuteTime": {
     "end_time": "2023-12-23T20:46:28.693048Z",
     "start_time": "2023-12-23T20:46:25.024671500Z"
    }
   },
   "id": "62eda5530e3f10ba"
  },
  {
   "cell_type": "code",
   "execution_count": 1591,
   "outputs": [
    {
     "name": "stdout",
     "output_type": "stream",
     "text": [
      "23\n"
     ]
    },
    {
     "data": {
      "text/plain": "                                                            log_index  \\\nsession request_line                                                    \n0       /anganwadi/                                                 1   \n        /bhutanforest/manifest.json                                 1   \n        /bhuvan_new2d_support_apis/dop/getDop.php?y=22....          1   \n        /bhuvan_new2d_support_apis/login/logout.php                 1   \n        /datadownload/php/getLayerDataYears.php?theme=l...          1   \n        /favicon.ico                                                1   \n        /kyrdemo/index.html                                         2   \n        /kyrdemo/manifest.webmanifest                               1   \n        /lulc50k/static/media/spritesheet.a4e0eb7ad904a...          1   \n        /nird_dashboard/dashboard_index.php                         5   \n        /rbi                                                        3   \n        /scan_alka/mhrd_ncert/sb/get/legend_hindi.php?q...          1   \n        /scan_alka/mhrd_ncert/sb/sb-hi.php                          1   \n        /scan_m/cas_userstats/getUserStats.php?sdate=20...          1   \n        /scan_p/bhuvanNTL/geometryState.php?state=DELHI             1   \n        /scan_p/bhuvanNTL/getStates.php                             2   \n        /scan_p/bhuvanNTL/getStats.php?state=INDIA                  1   \n        /twris/geoportal/css/images/ui-icons_ffffff_256...          1   \n        /twris/geoportal/theme/default/images/ui-bg_gla...          1   \n        /twris/geoportal/twris.php                                  3   \n        /wdc2.0/dashboard/                                          1   \n        /wdc2.0/php/get_project_all.php                             3   \n        /wdc2.0/php/get_states.php                                  1   \n\n                                                            ip_address  \\\nsession request_line                                                     \n0       /anganwadi/                                                  1   \n        /bhutanforest/manifest.json                                  1   \n        /bhuvan_new2d_support_apis/dop/getDop.php?y=22....           1   \n        /bhuvan_new2d_support_apis/login/logout.php                  1   \n        /datadownload/php/getLayerDataYears.php?theme=l...           1   \n        /favicon.ico                                                 1   \n        /kyrdemo/index.html                                          2   \n        /kyrdemo/manifest.webmanifest                                1   \n        /lulc50k/static/media/spritesheet.a4e0eb7ad904a...           1   \n        /nird_dashboard/dashboard_index.php                          5   \n        /rbi                                                         3   \n        /scan_alka/mhrd_ncert/sb/get/legend_hindi.php?q...           1   \n        /scan_alka/mhrd_ncert/sb/sb-hi.php                           1   \n        /scan_m/cas_userstats/getUserStats.php?sdate=20...           1   \n        /scan_p/bhuvanNTL/geometryState.php?state=DELHI              1   \n        /scan_p/bhuvanNTL/getStates.php                              2   \n        /scan_p/bhuvanNTL/getStats.php?state=INDIA                   1   \n        /twris/geoportal/css/images/ui-icons_ffffff_256...           1   \n        /twris/geoportal/theme/default/images/ui-bg_gla...           1   \n        /twris/geoportal/twris.php                                   3   \n        /wdc2.0/dashboard/                                           1   \n        /wdc2.0/php/get_project_all.php                              3   \n        /wdc2.0/php/get_states.php                                   1   \n\n                                                            timestamp_localised  \\\nsession request_line                                                              \n0       /anganwadi/                                                           1   \n        /bhutanforest/manifest.json                                           1   \n        /bhuvan_new2d_support_apis/dop/getDop.php?y=22....                    1   \n        /bhuvan_new2d_support_apis/login/logout.php                           1   \n        /datadownload/php/getLayerDataYears.php?theme=l...                    1   \n        /favicon.ico                                                          1   \n        /kyrdemo/index.html                                                   2   \n        /kyrdemo/manifest.webmanifest                                         1   \n        /lulc50k/static/media/spritesheet.a4e0eb7ad904a...                    1   \n        /nird_dashboard/dashboard_index.php                                   5   \n        /rbi                                                                  3   \n        /scan_alka/mhrd_ncert/sb/get/legend_hindi.php?q...                    1   \n        /scan_alka/mhrd_ncert/sb/sb-hi.php                                    1   \n        /scan_m/cas_userstats/getUserStats.php?sdate=20...                    1   \n        /scan_p/bhuvanNTL/geometryState.php?state=DELHI                       1   \n        /scan_p/bhuvanNTL/getStates.php                                       2   \n        /scan_p/bhuvanNTL/getStats.php?state=INDIA                            1   \n        /twris/geoportal/css/images/ui-icons_ffffff_256...                    1   \n        /twris/geoportal/theme/default/images/ui-bg_gla...                    1   \n        /twris/geoportal/twris.php                                            3   \n        /wdc2.0/dashboard/                                                    1   \n        /wdc2.0/php/get_project_all.php                                       3   \n        /wdc2.0/php/get_states.php                                            1   \n\n                                                            sess_duration  \\\nsession request_line                                                        \n0       /anganwadi/                                                     1   \n        /bhutanforest/manifest.json                                     1   \n        /bhuvan_new2d_support_apis/dop/getDop.php?y=22....              1   \n        /bhuvan_new2d_support_apis/login/logout.php                     1   \n        /datadownload/php/getLayerDataYears.php?theme=l...              1   \n        /favicon.ico                                                    1   \n        /kyrdemo/index.html                                             2   \n        /kyrdemo/manifest.webmanifest                                   1   \n        /lulc50k/static/media/spritesheet.a4e0eb7ad904a...              1   \n        /nird_dashboard/dashboard_index.php                             5   \n        /rbi                                                            3   \n        /scan_alka/mhrd_ncert/sb/get/legend_hindi.php?q...              1   \n        /scan_alka/mhrd_ncert/sb/sb-hi.php                              1   \n        /scan_m/cas_userstats/getUserStats.php?sdate=20...              1   \n        /scan_p/bhuvanNTL/geometryState.php?state=DELHI                 1   \n        /scan_p/bhuvanNTL/getStates.php                                 2   \n        /scan_p/bhuvanNTL/getStats.php?state=INDIA                      1   \n        /twris/geoportal/css/images/ui-icons_ffffff_256...              1   \n        /twris/geoportal/theme/default/images/ui-bg_gla...              1   \n        /twris/geoportal/twris.php                                      3   \n        /wdc2.0/dashboard/                                              1   \n        /wdc2.0/php/get_project_all.php                                 3   \n        /wdc2.0/php/get_states.php                                      1   \n\n                                                            method  \\\nsession request_line                                                 \n0       /anganwadi/                                              1   \n        /bhutanforest/manifest.json                              1   \n        /bhuvan_new2d_support_apis/dop/getDop.php?y=22....       1   \n        /bhuvan_new2d_support_apis/login/logout.php              1   \n        /datadownload/php/getLayerDataYears.php?theme=l...       1   \n        /favicon.ico                                             1   \n        /kyrdemo/index.html                                      2   \n        /kyrdemo/manifest.webmanifest                            1   \n        /lulc50k/static/media/spritesheet.a4e0eb7ad904a...       1   \n        /nird_dashboard/dashboard_index.php                      5   \n        /rbi                                                     3   \n        /scan_alka/mhrd_ncert/sb/get/legend_hindi.php?q...       1   \n        /scan_alka/mhrd_ncert/sb/sb-hi.php                       1   \n        /scan_m/cas_userstats/getUserStats.php?sdate=20...       1   \n        /scan_p/bhuvanNTL/geometryState.php?state=DELHI          1   \n        /scan_p/bhuvanNTL/getStates.php                          2   \n        /scan_p/bhuvanNTL/getStats.php?state=INDIA               1   \n        /twris/geoportal/css/images/ui-icons_ffffff_256...       1   \n        /twris/geoportal/theme/default/images/ui-bg_gla...       1   \n        /twris/geoportal/twris.php                               3   \n        /wdc2.0/dashboard/                                       1   \n        /wdc2.0/php/get_project_all.php                          3   \n        /wdc2.0/php/get_states.php                               1   \n\n                                                            http_version  \\\nsession request_line                                                       \n0       /anganwadi/                                                    1   \n        /bhutanforest/manifest.json                                    1   \n        /bhuvan_new2d_support_apis/dop/getDop.php?y=22....             1   \n        /bhuvan_new2d_support_apis/login/logout.php                    1   \n        /datadownload/php/getLayerDataYears.php?theme=l...             1   \n        /favicon.ico                                                   1   \n        /kyrdemo/index.html                                            2   \n        /kyrdemo/manifest.webmanifest                                  1   \n        /lulc50k/static/media/spritesheet.a4e0eb7ad904a...             1   \n        /nird_dashboard/dashboard_index.php                            5   \n        /rbi                                                           3   \n        /scan_alka/mhrd_ncert/sb/get/legend_hindi.php?q...             1   \n        /scan_alka/mhrd_ncert/sb/sb-hi.php                             1   \n        /scan_m/cas_userstats/getUserStats.php?sdate=20...             1   \n        /scan_p/bhuvanNTL/geometryState.php?state=DELHI                1   \n        /scan_p/bhuvanNTL/getStates.php                                2   \n        /scan_p/bhuvanNTL/getStats.php?state=INDIA                     1   \n        /twris/geoportal/css/images/ui-icons_ffffff_256...             1   \n        /twris/geoportal/theme/default/images/ui-bg_gla...             1   \n        /twris/geoportal/twris.php                                     3   \n        /wdc2.0/dashboard/                                             1   \n        /wdc2.0/php/get_project_all.php                                3   \n        /wdc2.0/php/get_states.php                                     1   \n\n                                                            status_code  \\\nsession request_line                                                      \n0       /anganwadi/                                                   1   \n        /bhutanforest/manifest.json                                   1   \n        /bhuvan_new2d_support_apis/dop/getDop.php?y=22....            1   \n        /bhuvan_new2d_support_apis/login/logout.php                   1   \n        /datadownload/php/getLayerDataYears.php?theme=l...            1   \n        /favicon.ico                                                  1   \n        /kyrdemo/index.html                                           2   \n        /kyrdemo/manifest.webmanifest                                 1   \n        /lulc50k/static/media/spritesheet.a4e0eb7ad904a...            1   \n        /nird_dashboard/dashboard_index.php                           5   \n        /rbi                                                          3   \n        /scan_alka/mhrd_ncert/sb/get/legend_hindi.php?q...            1   \n        /scan_alka/mhrd_ncert/sb/sb-hi.php                            1   \n        /scan_m/cas_userstats/getUserStats.php?sdate=20...            1   \n        /scan_p/bhuvanNTL/geometryState.php?state=DELHI               1   \n        /scan_p/bhuvanNTL/getStates.php                               2   \n        /scan_p/bhuvanNTL/getStats.php?state=INDIA                    1   \n        /twris/geoportal/css/images/ui-icons_ffffff_256...            1   \n        /twris/geoportal/theme/default/images/ui-bg_gla...            1   \n        /twris/geoportal/twris.php                                    3   \n        /wdc2.0/dashboard/                                            1   \n        /wdc2.0/php/get_project_all.php                               3   \n        /wdc2.0/php/get_states.php                                    1   \n\n                                                            bytes_transferred  \\\nsession request_line                                                            \n0       /anganwadi/                                                         1   \n        /bhutanforest/manifest.json                                         1   \n        /bhuvan_new2d_support_apis/dop/getDop.php?y=22....                  1   \n        /bhuvan_new2d_support_apis/login/logout.php                         1   \n        /datadownload/php/getLayerDataYears.php?theme=l...                  1   \n        /favicon.ico                                                        1   \n        /kyrdemo/index.html                                                 2   \n        /kyrdemo/manifest.webmanifest                                       1   \n        /lulc50k/static/media/spritesheet.a4e0eb7ad904a...                  1   \n        /nird_dashboard/dashboard_index.php                                 5   \n        /rbi                                                                3   \n        /scan_alka/mhrd_ncert/sb/get/legend_hindi.php?q...                  1   \n        /scan_alka/mhrd_ncert/sb/sb-hi.php                                  1   \n        /scan_m/cas_userstats/getUserStats.php?sdate=20...                  1   \n        /scan_p/bhuvanNTL/geometryState.php?state=DELHI                     1   \n        /scan_p/bhuvanNTL/getStates.php                                     2   \n        /scan_p/bhuvanNTL/getStats.php?state=INDIA                          1   \n        /twris/geoportal/css/images/ui-icons_ffffff_256...                  1   \n        /twris/geoportal/theme/default/images/ui-bg_gla...                  1   \n        /twris/geoportal/twris.php                                          3   \n        /wdc2.0/dashboard/                                                  1   \n        /wdc2.0/php/get_project_all.php                                     3   \n        /wdc2.0/php/get_states.php                                          1   \n\n                                                            referer  \\\nsession request_line                                                  \n0       /anganwadi/                                               1   \n        /bhutanforest/manifest.json                               1   \n        /bhuvan_new2d_support_apis/dop/getDop.php?y=22....        1   \n        /bhuvan_new2d_support_apis/login/logout.php               1   \n        /datadownload/php/getLayerDataYears.php?theme=l...        1   \n        /favicon.ico                                              1   \n        /kyrdemo/index.html                                       2   \n        /kyrdemo/manifest.webmanifest                             1   \n        /lulc50k/static/media/spritesheet.a4e0eb7ad904a...        1   \n        /nird_dashboard/dashboard_index.php                       5   \n        /rbi                                                      3   \n        /scan_alka/mhrd_ncert/sb/get/legend_hindi.php?q...        1   \n        /scan_alka/mhrd_ncert/sb/sb-hi.php                        1   \n        /scan_m/cas_userstats/getUserStats.php?sdate=20...        1   \n        /scan_p/bhuvanNTL/geometryState.php?state=DELHI           1   \n        /scan_p/bhuvanNTL/getStates.php                           2   \n        /scan_p/bhuvanNTL/getStats.php?state=INDIA                1   \n        /twris/geoportal/css/images/ui-icons_ffffff_256...        1   \n        /twris/geoportal/theme/default/images/ui-bg_gla...        1   \n        /twris/geoportal/twris.php                                3   \n        /wdc2.0/dashboard/                                        1   \n        /wdc2.0/php/get_project_all.php                           3   \n        /wdc2.0/php/get_states.php                                1   \n\n                                                            user_agent  \\\nsession request_line                                                     \n0       /anganwadi/                                                  1   \n        /bhutanforest/manifest.json                                  1   \n        /bhuvan_new2d_support_apis/dop/getDop.php?y=22....           1   \n        /bhuvan_new2d_support_apis/login/logout.php                  1   \n        /datadownload/php/getLayerDataYears.php?theme=l...           1   \n        /favicon.ico                                                 1   \n        /kyrdemo/index.html                                          2   \n        /kyrdemo/manifest.webmanifest                                1   \n        /lulc50k/static/media/spritesheet.a4e0eb7ad904a...           1   \n        /nird_dashboard/dashboard_index.php                          5   \n        /rbi                                                         3   \n        /scan_alka/mhrd_ncert/sb/get/legend_hindi.php?q...           1   \n        /scan_alka/mhrd_ncert/sb/sb-hi.php                           1   \n        /scan_m/cas_userstats/getUserStats.php?sdate=20...           1   \n        /scan_p/bhuvanNTL/geometryState.php?state=DELHI              1   \n        /scan_p/bhuvanNTL/getStates.php                              2   \n        /scan_p/bhuvanNTL/getStats.php?state=INDIA                   1   \n        /twris/geoportal/css/images/ui-icons_ffffff_256...           1   \n        /twris/geoportal/theme/default/images/ui-bg_gla...           1   \n        /twris/geoportal/twris.php                                   3   \n        /wdc2.0/dashboard/                                           1   \n        /wdc2.0/php/get_project_all.php                              3   \n        /wdc2.0/php/get_states.php                                   1   \n\n                                                            timezone  \\\nsession request_line                                                   \n0       /anganwadi/                                                1   \n        /bhutanforest/manifest.json                                1   \n        /bhuvan_new2d_support_apis/dop/getDop.php?y=22....         1   \n        /bhuvan_new2d_support_apis/login/logout.php                1   \n        /datadownload/php/getLayerDataYears.php?theme=l...         1   \n        /favicon.ico                                               1   \n        /kyrdemo/index.html                                        2   \n        /kyrdemo/manifest.webmanifest                              1   \n        /lulc50k/static/media/spritesheet.a4e0eb7ad904a...         1   \n        /nird_dashboard/dashboard_index.php                        5   \n        /rbi                                                       3   \n        /scan_alka/mhrd_ncert/sb/get/legend_hindi.php?q...         1   \n        /scan_alka/mhrd_ncert/sb/sb-hi.php                         1   \n        /scan_m/cas_userstats/getUserStats.php?sdate=20...         1   \n        /scan_p/bhuvanNTL/geometryState.php?state=DELHI            1   \n        /scan_p/bhuvanNTL/getStates.php                            2   \n        /scan_p/bhuvanNTL/getStats.php?state=INDIA                 1   \n        /twris/geoportal/css/images/ui-icons_ffffff_256...         1   \n        /twris/geoportal/theme/default/images/ui-bg_gla...         1   \n        /twris/geoportal/twris.php                                 3   \n        /wdc2.0/dashboard/                                         1   \n        /wdc2.0/php/get_project_all.php                            3   \n        /wdc2.0/php/get_states.php                                 1   \n\n                                                            timestamp  \\\nsession request_line                                                    \n0       /anganwadi/                                                 1   \n        /bhutanforest/manifest.json                                 1   \n        /bhuvan_new2d_support_apis/dop/getDop.php?y=22....          1   \n        /bhuvan_new2d_support_apis/login/logout.php                 1   \n        /datadownload/php/getLayerDataYears.php?theme=l...          1   \n        /favicon.ico                                                1   \n        /kyrdemo/index.html                                         2   \n        /kyrdemo/manifest.webmanifest                               1   \n        /lulc50k/static/media/spritesheet.a4e0eb7ad904a...          1   \n        /nird_dashboard/dashboard_index.php                         5   \n        /rbi                                                        3   \n        /scan_alka/mhrd_ncert/sb/get/legend_hindi.php?q...          1   \n        /scan_alka/mhrd_ncert/sb/sb-hi.php                          1   \n        /scan_m/cas_userstats/getUserStats.php?sdate=20...          1   \n        /scan_p/bhuvanNTL/geometryState.php?state=DELHI             1   \n        /scan_p/bhuvanNTL/getStates.php                             2   \n        /scan_p/bhuvanNTL/getStats.php?state=INDIA                  1   \n        /twris/geoportal/css/images/ui-icons_ffffff_256...          1   \n        /twris/geoportal/theme/default/images/ui-bg_gla...          1   \n        /twris/geoportal/twris.php                                  3   \n        /wdc2.0/dashboard/                                          1   \n        /wdc2.0/php/get_project_all.php                             3   \n        /wdc2.0/php/get_states.php                                  1   \n\n                                                            session_no.  \nsession request_line                                                     \n0       /anganwadi/                                                   1  \n        /bhutanforest/manifest.json                                   1  \n        /bhuvan_new2d_support_apis/dop/getDop.php?y=22....            1  \n        /bhuvan_new2d_support_apis/login/logout.php                   1  \n        /datadownload/php/getLayerDataYears.php?theme=l...            1  \n        /favicon.ico                                                  1  \n        /kyrdemo/index.html                                           2  \n        /kyrdemo/manifest.webmanifest                                 1  \n        /lulc50k/static/media/spritesheet.a4e0eb7ad904a...            1  \n        /nird_dashboard/dashboard_index.php                           5  \n        /rbi                                                          3  \n        /scan_alka/mhrd_ncert/sb/get/legend_hindi.php?q...            1  \n        /scan_alka/mhrd_ncert/sb/sb-hi.php                            1  \n        /scan_m/cas_userstats/getUserStats.php?sdate=20...            1  \n        /scan_p/bhuvanNTL/geometryState.php?state=DELHI               1  \n        /scan_p/bhuvanNTL/getStates.php                               2  \n        /scan_p/bhuvanNTL/getStats.php?state=INDIA                    1  \n        /twris/geoportal/css/images/ui-icons_ffffff_256...            1  \n        /twris/geoportal/theme/default/images/ui-bg_gla...            1  \n        /twris/geoportal/twris.php                                    3  \n        /wdc2.0/dashboard/                                            1  \n        /wdc2.0/php/get_project_all.php                               3  \n        /wdc2.0/php/get_states.php                                    1  ",
      "text/html": "<div>\n<style scoped>\n    .dataframe tbody tr th:only-of-type {\n        vertical-align: middle;\n    }\n\n    .dataframe tbody tr th {\n        vertical-align: top;\n    }\n\n    .dataframe thead th {\n        text-align: right;\n    }\n</style>\n<table border=\"1\" class=\"dataframe\">\n  <thead>\n    <tr style=\"text-align: right;\">\n      <th></th>\n      <th></th>\n      <th>log_index</th>\n      <th>ip_address</th>\n      <th>timestamp_localised</th>\n      <th>sess_duration</th>\n      <th>method</th>\n      <th>http_version</th>\n      <th>status_code</th>\n      <th>bytes_transferred</th>\n      <th>referer</th>\n      <th>user_agent</th>\n      <th>timezone</th>\n      <th>timestamp</th>\n      <th>session_no.</th>\n    </tr>\n    <tr>\n      <th>session</th>\n      <th>request_line</th>\n      <th></th>\n      <th></th>\n      <th></th>\n      <th></th>\n      <th></th>\n      <th></th>\n      <th></th>\n      <th></th>\n      <th></th>\n      <th></th>\n      <th></th>\n      <th></th>\n      <th></th>\n    </tr>\n  </thead>\n  <tbody>\n    <tr>\n      <th rowspan=\"23\" valign=\"top\">0</th>\n      <th>/anganwadi/</th>\n      <td>1</td>\n      <td>1</td>\n      <td>1</td>\n      <td>1</td>\n      <td>1</td>\n      <td>1</td>\n      <td>1</td>\n      <td>1</td>\n      <td>1</td>\n      <td>1</td>\n      <td>1</td>\n      <td>1</td>\n      <td>1</td>\n    </tr>\n    <tr>\n      <th>/bhutanforest/manifest.json</th>\n      <td>1</td>\n      <td>1</td>\n      <td>1</td>\n      <td>1</td>\n      <td>1</td>\n      <td>1</td>\n      <td>1</td>\n      <td>1</td>\n      <td>1</td>\n      <td>1</td>\n      <td>1</td>\n      <td>1</td>\n      <td>1</td>\n    </tr>\n    <tr>\n      <th>/bhuvan_new2d_support_apis/dop/getDop.php?y=22.36111826796675&amp;x=70.94747543334961</th>\n      <td>1</td>\n      <td>1</td>\n      <td>1</td>\n      <td>1</td>\n      <td>1</td>\n      <td>1</td>\n      <td>1</td>\n      <td>1</td>\n      <td>1</td>\n      <td>1</td>\n      <td>1</td>\n      <td>1</td>\n      <td>1</td>\n    </tr>\n    <tr>\n      <th>/bhuvan_new2d_support_apis/login/logout.php</th>\n      <td>1</td>\n      <td>1</td>\n      <td>1</td>\n      <td>1</td>\n      <td>1</td>\n      <td>1</td>\n      <td>1</td>\n      <td>1</td>\n      <td>1</td>\n      <td>1</td>\n      <td>1</td>\n      <td>1</td>\n      <td>1</td>\n    </tr>\n    <tr>\n      <th>/datadownload/php/getLayerDataYears.php?theme=lulc50</th>\n      <td>1</td>\n      <td>1</td>\n      <td>1</td>\n      <td>1</td>\n      <td>1</td>\n      <td>1</td>\n      <td>1</td>\n      <td>1</td>\n      <td>1</td>\n      <td>1</td>\n      <td>1</td>\n      <td>1</td>\n      <td>1</td>\n    </tr>\n    <tr>\n      <th>/favicon.ico</th>\n      <td>1</td>\n      <td>1</td>\n      <td>1</td>\n      <td>1</td>\n      <td>1</td>\n      <td>1</td>\n      <td>1</td>\n      <td>1</td>\n      <td>1</td>\n      <td>1</td>\n      <td>1</td>\n      <td>1</td>\n      <td>1</td>\n    </tr>\n    <tr>\n      <th>/kyrdemo/index.html</th>\n      <td>2</td>\n      <td>2</td>\n      <td>2</td>\n      <td>2</td>\n      <td>2</td>\n      <td>2</td>\n      <td>2</td>\n      <td>2</td>\n      <td>2</td>\n      <td>2</td>\n      <td>2</td>\n      <td>2</td>\n      <td>2</td>\n    </tr>\n    <tr>\n      <th>/kyrdemo/manifest.webmanifest</th>\n      <td>1</td>\n      <td>1</td>\n      <td>1</td>\n      <td>1</td>\n      <td>1</td>\n      <td>1</td>\n      <td>1</td>\n      <td>1</td>\n      <td>1</td>\n      <td>1</td>\n      <td>1</td>\n      <td>1</td>\n      <td>1</td>\n    </tr>\n    <tr>\n      <th>/lulc50k/static/media/spritesheet.a4e0eb7ad904a4858361.svg</th>\n      <td>1</td>\n      <td>1</td>\n      <td>1</td>\n      <td>1</td>\n      <td>1</td>\n      <td>1</td>\n      <td>1</td>\n      <td>1</td>\n      <td>1</td>\n      <td>1</td>\n      <td>1</td>\n      <td>1</td>\n      <td>1</td>\n    </tr>\n    <tr>\n      <th>/nird_dashboard/dashboard_index.php</th>\n      <td>5</td>\n      <td>5</td>\n      <td>5</td>\n      <td>5</td>\n      <td>5</td>\n      <td>5</td>\n      <td>5</td>\n      <td>5</td>\n      <td>5</td>\n      <td>5</td>\n      <td>5</td>\n      <td>5</td>\n      <td>5</td>\n    </tr>\n    <tr>\n      <th>/rbi</th>\n      <td>3</td>\n      <td>3</td>\n      <td>3</td>\n      <td>3</td>\n      <td>3</td>\n      <td>3</td>\n      <td>3</td>\n      <td>3</td>\n      <td>3</td>\n      <td>3</td>\n      <td>3</td>\n      <td>3</td>\n      <td>3</td>\n    </tr>\n    <tr>\n      <th>/scan_alka/mhrd_ncert/sb/get/legend_hindi.php?q=school:N_T_powerplant-hindi__</th>\n      <td>1</td>\n      <td>1</td>\n      <td>1</td>\n      <td>1</td>\n      <td>1</td>\n      <td>1</td>\n      <td>1</td>\n      <td>1</td>\n      <td>1</td>\n      <td>1</td>\n      <td>1</td>\n      <td>1</td>\n      <td>1</td>\n    </tr>\n    <tr>\n      <th>/scan_alka/mhrd_ncert/sb/sb-hi.php</th>\n      <td>1</td>\n      <td>1</td>\n      <td>1</td>\n      <td>1</td>\n      <td>1</td>\n      <td>1</td>\n      <td>1</td>\n      <td>1</td>\n      <td>1</td>\n      <td>1</td>\n      <td>1</td>\n      <td>1</td>\n      <td>1</td>\n    </tr>\n    <tr>\n      <th>/scan_m/cas_userstats/getUserStats.php?sdate=2023-11-06&amp;edate=2023-11-06</th>\n      <td>1</td>\n      <td>1</td>\n      <td>1</td>\n      <td>1</td>\n      <td>1</td>\n      <td>1</td>\n      <td>1</td>\n      <td>1</td>\n      <td>1</td>\n      <td>1</td>\n      <td>1</td>\n      <td>1</td>\n      <td>1</td>\n    </tr>\n    <tr>\n      <th>/scan_p/bhuvanNTL/geometryState.php?state=DELHI</th>\n      <td>1</td>\n      <td>1</td>\n      <td>1</td>\n      <td>1</td>\n      <td>1</td>\n      <td>1</td>\n      <td>1</td>\n      <td>1</td>\n      <td>1</td>\n      <td>1</td>\n      <td>1</td>\n      <td>1</td>\n      <td>1</td>\n    </tr>\n    <tr>\n      <th>/scan_p/bhuvanNTL/getStates.php</th>\n      <td>2</td>\n      <td>2</td>\n      <td>2</td>\n      <td>2</td>\n      <td>2</td>\n      <td>2</td>\n      <td>2</td>\n      <td>2</td>\n      <td>2</td>\n      <td>2</td>\n      <td>2</td>\n      <td>2</td>\n      <td>2</td>\n    </tr>\n    <tr>\n      <th>/scan_p/bhuvanNTL/getStats.php?state=INDIA</th>\n      <td>1</td>\n      <td>1</td>\n      <td>1</td>\n      <td>1</td>\n      <td>1</td>\n      <td>1</td>\n      <td>1</td>\n      <td>1</td>\n      <td>1</td>\n      <td>1</td>\n      <td>1</td>\n      <td>1</td>\n      <td>1</td>\n    </tr>\n    <tr>\n      <th>/twris/geoportal/css/images/ui-icons_ffffff_256x240.png</th>\n      <td>1</td>\n      <td>1</td>\n      <td>1</td>\n      <td>1</td>\n      <td>1</td>\n      <td>1</td>\n      <td>1</td>\n      <td>1</td>\n      <td>1</td>\n      <td>1</td>\n      <td>1</td>\n      <td>1</td>\n      <td>1</td>\n    </tr>\n    <tr>\n      <th>/twris/geoportal/theme/default/images/ui-bg_glass_65_ffffff_1x400.png</th>\n      <td>1</td>\n      <td>1</td>\n      <td>1</td>\n      <td>1</td>\n      <td>1</td>\n      <td>1</td>\n      <td>1</td>\n      <td>1</td>\n      <td>1</td>\n      <td>1</td>\n      <td>1</td>\n      <td>1</td>\n      <td>1</td>\n    </tr>\n    <tr>\n      <th>/twris/geoportal/twris.php</th>\n      <td>3</td>\n      <td>3</td>\n      <td>3</td>\n      <td>3</td>\n      <td>3</td>\n      <td>3</td>\n      <td>3</td>\n      <td>3</td>\n      <td>3</td>\n      <td>3</td>\n      <td>3</td>\n      <td>3</td>\n      <td>3</td>\n    </tr>\n    <tr>\n      <th>/wdc2.0/dashboard/</th>\n      <td>1</td>\n      <td>1</td>\n      <td>1</td>\n      <td>1</td>\n      <td>1</td>\n      <td>1</td>\n      <td>1</td>\n      <td>1</td>\n      <td>1</td>\n      <td>1</td>\n      <td>1</td>\n      <td>1</td>\n      <td>1</td>\n    </tr>\n    <tr>\n      <th>/wdc2.0/php/get_project_all.php</th>\n      <td>3</td>\n      <td>3</td>\n      <td>3</td>\n      <td>3</td>\n      <td>3</td>\n      <td>3</td>\n      <td>3</td>\n      <td>3</td>\n      <td>3</td>\n      <td>3</td>\n      <td>3</td>\n      <td>3</td>\n      <td>3</td>\n    </tr>\n    <tr>\n      <th>/wdc2.0/php/get_states.php</th>\n      <td>1</td>\n      <td>1</td>\n      <td>1</td>\n      <td>1</td>\n      <td>1</td>\n      <td>1</td>\n      <td>1</td>\n      <td>1</td>\n      <td>1</td>\n      <td>1</td>\n      <td>1</td>\n      <td>1</td>\n      <td>1</td>\n    </tr>\n  </tbody>\n</table>\n</div>"
     },
     "execution_count": 1591,
     "metadata": {},
     "output_type": "execute_result"
    }
   ],
   "source": [
    "session_end_df = logs_df.loc[logs_df['session'] == 0].groupby(['session','request_line']).count()\n",
    "print(len(session_end_df))\n",
    "session_end_df"
   ],
   "metadata": {
    "collapsed": false,
    "ExecuteTime": {
     "end_time": "2023-12-23T20:46:28.756560200Z",
     "start_time": "2023-12-23T20:46:28.688935Z"
    }
   },
   "id": "5d438a5b6a1dbb8d"
  },
  {
   "cell_type": "code",
   "execution_count": 1592,
   "id": "be06d455a5213fab",
   "metadata": {
    "ExecuteTime": {
     "end_time": "2023-12-23T20:46:28.790068300Z",
     "start_time": "2023-12-23T20:46:28.726865400Z"
    }
   },
   "outputs": [],
   "source": [
    "# logs_df.groupby(['ip_address','request_line'],axis=1).count()\n",
    "# logs_df['count'] = 1\n",
    "# count_df = logs_df.groupby(by =['request_line']).value_counts()\n",
    "\n",
    "# #groupby count for ip_address - request_line\n",
    "# count_df = logs_df.groupby(['ip_address','request_line']).count()\n",
    "# count_df"
   ]
  },
  {
   "cell_type": "code",
   "execution_count": 1593,
   "id": "9c1e2367164e60e8",
   "metadata": {
    "ExecuteTime": {
     "end_time": "2023-12-23T20:46:28.790068300Z",
     "start_time": "2023-12-23T20:46:28.735172900Z"
    }
   },
   "outputs": [],
   "source": [
    "# #counts of unique request lines\n",
    "# grouped = logs_df.groupby(['ip_address', 'request_line']).size().reset_index(name='count')\n",
    "# grouped"
   ]
  },
  {
   "cell_type": "code",
   "execution_count": 1594,
   "outputs": [
    {
     "data": {
      "text/plain": "       log_index     ip_address timestamp_localised   sess_duration  session  \\\n0          23415   172.17.53.23 2023-11-06 12:33:41             NaT        5   \n1          23416   172.17.53.23 2023-11-06 12:33:41 0 days 00:00:00        1   \n2          23417   172.17.53.23 2023-11-06 12:33:41 0 days 00:00:00        1   \n3          23418   172.17.53.23 2023-11-06 12:33:41 0 days 00:00:00        1   \n4          23419   172.17.53.23 2023-11-06 12:33:41 0 days 00:00:00        1   \n...          ...            ...                 ...             ...      ...   \n38592      26926  192.168.193.6 2023-11-06 14:26:51 0 days 00:03:50        1   \n38593      26927  192.168.193.6 2023-11-06 14:26:51 0 days 00:00:00        1   \n38594      26928  192.168.193.6 2023-11-06 14:26:51 0 days 00:00:00        1   \n38595      26929  192.168.193.6 2023-11-06 14:26:51 0 days 00:00:00        1   \n38596      26930  192.168.193.6 2023-11-06 14:26:51 0 days 00:00:00        0   \n\n                                          request_line http_version  \\\n0                                     GET /scan_m/fog/     HTTP/2.0   \n1                    GET /scan_m/fog/css/component.css     HTTP/2.0   \n2                           GET /scan_m/fog/css/ol.css     HTTP/2.0   \n3             GET /scan_m/fog/theme/default/style2.css     HTTP/2.0   \n4      GET /scan_m/fog/theme/default/jquery-ui.min.css     HTTP/2.0   \n...                                                ...          ...   \n38592                  POST /wdc2.0/php/get_states.php     HTTP/2.0   \n38593                   POST /wdc2.0/php/get_heads.php     HTTP/2.0   \n38594                  POST /wdc2.0/php/get_states.php     HTTP/2.0   \n38595                   POST /wdc2.0/php/get_heads.php     HTTP/2.0   \n38596              GET /wdc2.0/php/get_project_all.php     HTTP/2.0   \n\n      status_code bytes_transferred  \\\n0             200              8309   \n1             200              1159   \n2             200              2313   \n3             200              4345   \n4             200              8343   \n...           ...               ...   \n38592         200               355   \n38593         200               329   \n38594         200               355   \n38595         200               329   \n38596         200           6768368   \n\n                                               referer  \\\n0                                                    -   \n1      https://bhuvan-staging1.nrsc.gov.in/scan_m/fog/   \n2      https://bhuvan-staging1.nrsc.gov.in/scan_m/fog/   \n3      https://bhuvan-staging1.nrsc.gov.in/scan_m/fog/   \n4      https://bhuvan-staging1.nrsc.gov.in/scan_m/fog/   \n...                                                ...   \n38592      https://bhuvan-staging1.nrsc.gov.in/wdc2.0/   \n38593      https://bhuvan-staging1.nrsc.gov.in/wdc2.0/   \n38594      https://bhuvan-staging1.nrsc.gov.in/wdc2.0/   \n38595      https://bhuvan-staging1.nrsc.gov.in/wdc2.0/   \n38596      https://bhuvan-staging1.nrsc.gov.in/wdc2.0/   \n\n                                              user_agent   timezone  \\\n0      Mozilla/5.0 (Windows NT 10.0; Win64; x64) Appl...  UTC+05:30   \n1      Mozilla/5.0 (Windows NT 10.0; Win64; x64) Appl...  UTC+05:30   \n2      Mozilla/5.0 (Windows NT 10.0; Win64; x64) Appl...  UTC+05:30   \n3      Mozilla/5.0 (Windows NT 10.0; Win64; x64) Appl...  UTC+05:30   \n4      Mozilla/5.0 (Windows NT 10.0; Win64; x64) Appl...  UTC+05:30   \n...                                                  ...        ...   \n38592  Mozilla/5.0 (Windows NT 10.0; Win64; x64) Appl...  UTC+05:30   \n38593  Mozilla/5.0 (Windows NT 10.0; Win64; x64) Appl...  UTC+05:30   \n38594  Mozilla/5.0 (Windows NT 10.0; Win64; x64) Appl...  UTC+05:30   \n38595  Mozilla/5.0 (Windows NT 10.0; Win64; x64) Appl...  UTC+05:30   \n38596  Mozilla/5.0 (Windows NT 10.0; Win64; x64) Appl...  UTC+05:30   \n\n                      timestamp  session_no.  \n0     2023-11-06 12:33:41+05:30            0  \n1     2023-11-06 12:33:41+05:30            0  \n2     2023-11-06 12:33:41+05:30            0  \n3     2023-11-06 12:33:41+05:30            0  \n4     2023-11-06 12:33:41+05:30            0  \n...                         ...          ...  \n38592 2023-11-06 14:26:51+05:30           34  \n38593 2023-11-06 14:26:51+05:30           34  \n38594 2023-11-06 14:26:51+05:30           34  \n38595 2023-11-06 14:26:51+05:30           34  \n38596 2023-11-06 14:26:51+05:30           34  \n\n[38597 rows x 14 columns]",
      "text/html": "<div>\n<style scoped>\n    .dataframe tbody tr th:only-of-type {\n        vertical-align: middle;\n    }\n\n    .dataframe tbody tr th {\n        vertical-align: top;\n    }\n\n    .dataframe thead th {\n        text-align: right;\n    }\n</style>\n<table border=\"1\" class=\"dataframe\">\n  <thead>\n    <tr style=\"text-align: right;\">\n      <th></th>\n      <th>log_index</th>\n      <th>ip_address</th>\n      <th>timestamp_localised</th>\n      <th>sess_duration</th>\n      <th>session</th>\n      <th>request_line</th>\n      <th>http_version</th>\n      <th>status_code</th>\n      <th>bytes_transferred</th>\n      <th>referer</th>\n      <th>user_agent</th>\n      <th>timezone</th>\n      <th>timestamp</th>\n      <th>session_no.</th>\n    </tr>\n  </thead>\n  <tbody>\n    <tr>\n      <th>0</th>\n      <td>23415</td>\n      <td>172.17.53.23</td>\n      <td>2023-11-06 12:33:41</td>\n      <td>NaT</td>\n      <td>5</td>\n      <td>GET /scan_m/fog/</td>\n      <td>HTTP/2.0</td>\n      <td>200</td>\n      <td>8309</td>\n      <td>-</td>\n      <td>Mozilla/5.0 (Windows NT 10.0; Win64; x64) Appl...</td>\n      <td>UTC+05:30</td>\n      <td>2023-11-06 12:33:41+05:30</td>\n      <td>0</td>\n    </tr>\n    <tr>\n      <th>1</th>\n      <td>23416</td>\n      <td>172.17.53.23</td>\n      <td>2023-11-06 12:33:41</td>\n      <td>0 days 00:00:00</td>\n      <td>1</td>\n      <td>GET /scan_m/fog/css/component.css</td>\n      <td>HTTP/2.0</td>\n      <td>200</td>\n      <td>1159</td>\n      <td>https://bhuvan-staging1.nrsc.gov.in/scan_m/fog/</td>\n      <td>Mozilla/5.0 (Windows NT 10.0; Win64; x64) Appl...</td>\n      <td>UTC+05:30</td>\n      <td>2023-11-06 12:33:41+05:30</td>\n      <td>0</td>\n    </tr>\n    <tr>\n      <th>2</th>\n      <td>23417</td>\n      <td>172.17.53.23</td>\n      <td>2023-11-06 12:33:41</td>\n      <td>0 days 00:00:00</td>\n      <td>1</td>\n      <td>GET /scan_m/fog/css/ol.css</td>\n      <td>HTTP/2.0</td>\n      <td>200</td>\n      <td>2313</td>\n      <td>https://bhuvan-staging1.nrsc.gov.in/scan_m/fog/</td>\n      <td>Mozilla/5.0 (Windows NT 10.0; Win64; x64) Appl...</td>\n      <td>UTC+05:30</td>\n      <td>2023-11-06 12:33:41+05:30</td>\n      <td>0</td>\n    </tr>\n    <tr>\n      <th>3</th>\n      <td>23418</td>\n      <td>172.17.53.23</td>\n      <td>2023-11-06 12:33:41</td>\n      <td>0 days 00:00:00</td>\n      <td>1</td>\n      <td>GET /scan_m/fog/theme/default/style2.css</td>\n      <td>HTTP/2.0</td>\n      <td>200</td>\n      <td>4345</td>\n      <td>https://bhuvan-staging1.nrsc.gov.in/scan_m/fog/</td>\n      <td>Mozilla/5.0 (Windows NT 10.0; Win64; x64) Appl...</td>\n      <td>UTC+05:30</td>\n      <td>2023-11-06 12:33:41+05:30</td>\n      <td>0</td>\n    </tr>\n    <tr>\n      <th>4</th>\n      <td>23419</td>\n      <td>172.17.53.23</td>\n      <td>2023-11-06 12:33:41</td>\n      <td>0 days 00:00:00</td>\n      <td>1</td>\n      <td>GET /scan_m/fog/theme/default/jquery-ui.min.css</td>\n      <td>HTTP/2.0</td>\n      <td>200</td>\n      <td>8343</td>\n      <td>https://bhuvan-staging1.nrsc.gov.in/scan_m/fog/</td>\n      <td>Mozilla/5.0 (Windows NT 10.0; Win64; x64) Appl...</td>\n      <td>UTC+05:30</td>\n      <td>2023-11-06 12:33:41+05:30</td>\n      <td>0</td>\n    </tr>\n    <tr>\n      <th>...</th>\n      <td>...</td>\n      <td>...</td>\n      <td>...</td>\n      <td>...</td>\n      <td>...</td>\n      <td>...</td>\n      <td>...</td>\n      <td>...</td>\n      <td>...</td>\n      <td>...</td>\n      <td>...</td>\n      <td>...</td>\n      <td>...</td>\n      <td>...</td>\n    </tr>\n    <tr>\n      <th>38592</th>\n      <td>26926</td>\n      <td>192.168.193.6</td>\n      <td>2023-11-06 14:26:51</td>\n      <td>0 days 00:03:50</td>\n      <td>1</td>\n      <td>POST /wdc2.0/php/get_states.php</td>\n      <td>HTTP/2.0</td>\n      <td>200</td>\n      <td>355</td>\n      <td>https://bhuvan-staging1.nrsc.gov.in/wdc2.0/</td>\n      <td>Mozilla/5.0 (Windows NT 10.0; Win64; x64) Appl...</td>\n      <td>UTC+05:30</td>\n      <td>2023-11-06 14:26:51+05:30</td>\n      <td>34</td>\n    </tr>\n    <tr>\n      <th>38593</th>\n      <td>26927</td>\n      <td>192.168.193.6</td>\n      <td>2023-11-06 14:26:51</td>\n      <td>0 days 00:00:00</td>\n      <td>1</td>\n      <td>POST /wdc2.0/php/get_heads.php</td>\n      <td>HTTP/2.0</td>\n      <td>200</td>\n      <td>329</td>\n      <td>https://bhuvan-staging1.nrsc.gov.in/wdc2.0/</td>\n      <td>Mozilla/5.0 (Windows NT 10.0; Win64; x64) Appl...</td>\n      <td>UTC+05:30</td>\n      <td>2023-11-06 14:26:51+05:30</td>\n      <td>34</td>\n    </tr>\n    <tr>\n      <th>38594</th>\n      <td>26928</td>\n      <td>192.168.193.6</td>\n      <td>2023-11-06 14:26:51</td>\n      <td>0 days 00:00:00</td>\n      <td>1</td>\n      <td>POST /wdc2.0/php/get_states.php</td>\n      <td>HTTP/2.0</td>\n      <td>200</td>\n      <td>355</td>\n      <td>https://bhuvan-staging1.nrsc.gov.in/wdc2.0/</td>\n      <td>Mozilla/5.0 (Windows NT 10.0; Win64; x64) Appl...</td>\n      <td>UTC+05:30</td>\n      <td>2023-11-06 14:26:51+05:30</td>\n      <td>34</td>\n    </tr>\n    <tr>\n      <th>38595</th>\n      <td>26929</td>\n      <td>192.168.193.6</td>\n      <td>2023-11-06 14:26:51</td>\n      <td>0 days 00:00:00</td>\n      <td>1</td>\n      <td>POST /wdc2.0/php/get_heads.php</td>\n      <td>HTTP/2.0</td>\n      <td>200</td>\n      <td>329</td>\n      <td>https://bhuvan-staging1.nrsc.gov.in/wdc2.0/</td>\n      <td>Mozilla/5.0 (Windows NT 10.0; Win64; x64) Appl...</td>\n      <td>UTC+05:30</td>\n      <td>2023-11-06 14:26:51+05:30</td>\n      <td>34</td>\n    </tr>\n    <tr>\n      <th>38596</th>\n      <td>26930</td>\n      <td>192.168.193.6</td>\n      <td>2023-11-06 14:26:51</td>\n      <td>0 days 00:00:00</td>\n      <td>0</td>\n      <td>GET /wdc2.0/php/get_project_all.php</td>\n      <td>HTTP/2.0</td>\n      <td>200</td>\n      <td>6768368</td>\n      <td>https://bhuvan-staging1.nrsc.gov.in/wdc2.0/</td>\n      <td>Mozilla/5.0 (Windows NT 10.0; Win64; x64) Appl...</td>\n      <td>UTC+05:30</td>\n      <td>2023-11-06 14:26:51+05:30</td>\n      <td>34</td>\n    </tr>\n  </tbody>\n</table>\n<p>38597 rows × 14 columns</p>\n</div>"
     },
     "execution_count": 1594,
     "metadata": {},
     "output_type": "execute_result"
    }
   ],
   "source": [
    "logs_df['request_line'] = logs_df['method'] + \" \" + logs_df['request_line']\n",
    "logs_df.drop(labels = 'method', axis = 1,  inplace=True)\n",
    "logs_df"
   ],
   "metadata": {
    "collapsed": false,
    "ExecuteTime": {
     "end_time": "2023-12-23T20:46:28.916918400Z",
     "start_time": "2023-12-23T20:46:28.743893900Z"
    }
   },
   "id": "353aaf739a772580"
  },
  {
   "cell_type": "code",
   "execution_count": 1722,
   "id": "194976d8afbe3797",
   "metadata": {
    "ExecuteTime": {
     "end_time": "2023-12-23T21:15:24.521489900Z",
     "start_time": "2023-12-23T21:15:24.454783400Z"
    }
   },
   "outputs": [],
   "source": [
    "#using markov chain models to predict next request line\n",
    "from collections import defaultdict \n",
    "\n",
    "# Function to create Markov model for a session\n",
    "def create_markov_model(session_logs):\n",
    "    markov_model = defaultdict(dict)\n",
    "    session_logs = session_logs.reset_index(drop=True)  # Resetting index for proper iteration\n",
    "    for i in range(len(session_logs) - 1):\n",
    "        current_request = session_logs['request_line'][i]\n",
    "        next_request = session_logs['request_line'][i + 1]\n",
    "        if next_request not in markov_model[current_request]:\n",
    "            markov_model[current_request][next_request] = 1\n",
    "        else:\n",
    "            markov_model[current_request][next_request] += 1\n",
    "    \n",
    "    # Normalize transition probabilities\n",
    "    for current_request, transitions in markov_model.items():\n",
    "        total_transitions = sum(transitions.values())\n",
    "        for next_request in transitions:\n",
    "            markov_model[current_request][next_request] /= total_transitions\n",
    "    \n",
    "    return markov_model\n",
    "\n",
    "def prediction_accuracy(session_logs, model):\n",
    "    split_index = np.random.randint(len(session_logs)/2, len(session_logs))     #(inclusive, exclusive)\n",
    "    \n",
    "    session_accuracy=[]\n",
    "    for i in range(split_index,len(session_logs)):\n",
    "        first_part = session_logs['request_line'].tolist()[:i]  #(inclusive, exclusive)\n",
    "        second_part = session_logs['request_line'].tolist()[i:] \n",
    "        # print(first_part)\n",
    "        print(split_index,first_part)\n",
    "        last_request = first_part[-1]\n",
    "        # last_request = first_part[-1]['request_line'] if first_part else None\n",
    "        next_request = model.get(last_request)\n",
    "        # next_request = model.get(last_request) if last_request else None\n",
    "    \n",
    "        actual_next_request = second_part[0]\n",
    "        # actual_next_request = second_part[0]['RequestLine'] if second_part else None\n",
    "        accuracy = 1 if next_request == actual_next_request else 0 \n",
    "        session_accuracy.append(accuracy)\n",
    "    print(session_accuracy)\n",
    "    return sum(session_accuracy)/len(session_accuracy)\n",
    "\n",
    "# Construct Markov models for each session of each IP address\n",
    "markov_models = defaultdict(dict)\n",
    "#groupby for ip_address-session-requestline\n",
    "grouped_sessions = logs_df.groupby(by=['ip_address','session_no.'])\n",
    "unique_ips = logs_df['ip_address'].unique()  # Get unique IP addresses\n",
    "session_logs_list = []\n",
    "session_id_list = []\n",
    "for session_id, session_logs in grouped_sessions:\n",
    "    ip, session = session_id\n",
    "    # print(f\"IP: {ip}, Session: {session}\")\n",
    "    # session_id_list.append(np.array([ip,session]))\n",
    "    session_id_list.append([ip,session])\n",
    "    # print(session_logs)\n",
    "    session_logs_list.append(session_logs)\n",
    "# session_id_list = np.array(session_id_list)\n",
    "# print(np.array(session_id_list).T[0])\n",
    "\n",
    "# #again making group type\n",
    "# gouped_sessions = pd.DataFrame({'ip_address' : [session[0] for session in session_id_list], \n",
    "#                                 'session_id' : [session[1] for session in session_id_list],\n",
    "#                                 'session_data':session_logs_list})\n",
    "# print(type(session_logs_list[0]))\n",
    "\n",
    "# combined_data = list(zip(session_id_list, session_logs_list))"
   ]
  },
  {
   "cell_type": "code",
   "execution_count": 1723,
   "outputs": [
    {
     "name": "stdout",
     "output_type": "stream",
     "text": [
      "3\n",
      "35 35 7 28\n"
     ]
    }
   ],
   "source": [
    "indices = [i for i in range(len(session_id_list))]\n",
    "random.shuffle(indices)\n",
    "X_data = [session_id_list[i] for i in indices]\n",
    "y_data = [session_logs_list[i] for i in indices]\n",
    "X_train, X_test, y_train, y_test = [], [], [], []\n",
    "print(int(0.1*len(session_id_list)))\n",
    "for i in range(len(session_id_list)):\n",
    "    if ((len(X_test) < int(0.2*len(session_id_list))) & (len(y_data[i]) < 0.3*avg_requests)): \n",
    "        # test_data.append(i)\n",
    "        X_test.append(X_data[i])\n",
    "        y_test.append(y_data[i])\n",
    "    else:\n",
    "        # train_data.append(i)\n",
    "        X_train.append(X_data[i])\n",
    "        y_train.append(y_data[i])\n",
    "\n",
    "print(len(session_id_list),len(X_data),len(X_test),len(X_train))"
   ],
   "metadata": {
    "collapsed": false,
    "ExecuteTime": {
     "end_time": "2023-12-23T21:15:38.380053100Z",
     "start_time": "2023-12-23T21:15:38.363284700Z"
    }
   },
   "id": "d79419162c5f30f5"
  },
  {
   "cell_type": "code",
   "execution_count": 1724,
   "outputs": [],
   "source": [
    "# X_train, X_test, y_train, y_test = train_test_split(session_id_list, session_logs_list\n",
    "#                                                     , test_size= 0.1,random_state=42, shuffle=True)"
   ],
   "metadata": {
    "collapsed": false,
    "ExecuteTime": {
     "end_time": "2023-12-23T21:15:38.380562900Z",
     "start_time": "2023-12-23T21:15:38.372498Z"
    }
   },
   "id": "10cf4eab2c4a99d"
  },
  {
   "cell_type": "code",
   "execution_count": 1725,
   "outputs": [
    {
     "name": "stdout",
     "output_type": "stream",
     "text": [
      "{'172.26.3.200': [2, 1, 3], '172.26.3.214': [5], '172.26.3.55': [6], '172.31.4.102': [9, 7], '172.31.4.127': [14, 12, 11], '172.31.4.134': [16, 15], '172.31.4.188': [17], '172.31.4.190': [18], '172.31.4.195': [21, 19, 20], '172.31.4.196': [24], '172.31.4.54': [25, 26], '192.168.1.125': [27, 28], '192.168.193.36': [31, 30, 29, 32], '192.168.193.6': [34, 33]}\n",
      "['172.26.3.200', '172.26.3.214', '172.26.3.55', '172.31.4.102', '172.31.4.127', '172.31.4.134', '172.31.4.188', '172.31.4.190', '172.31.4.195', '172.31.4.196', '172.31.4.54', '192.168.1.125', '192.168.193.36', '192.168.193.6']\n"
     ]
    }
   ],
   "source": [
    "# # Sample list of tuples\n",
    "# data = [(1, 'apple'), (1, 'banana'), (2, 'orange'), (2, 'grape'), (3, 'melon')]\n",
    "# other_list = ['red', 'yellow', 'orange', 'purple', 'green']\n",
    "\n",
    "# Sort the data based on the first indices of each tuple\n",
    "sorted_X_train = sorted(X_train, key=lambda x: x[0])\n",
    "\n",
    "# Group the sorted data by the first indices\n",
    "grouped_X_train = {k: [item[1] for item in g] for k, g in groupby(sorted_X_train, key=lambda x: x[0])}\n",
    "\n",
    "# Perform the same grouping for the other list using indices\n",
    "grouped_y_train = {k: [y_train[idx] for idx in range(len(y_train)) if idx < len(v)] for k, v in grouped_X_train.items()}\n",
    "\n",
    "print(grouped_X_train)\n",
    "X_train = [key for key,value in grouped_X_train.items()]\n",
    "print(X_train)\n",
    "# type(grouped_y_train)\n",
    "for i in grouped_y_train:\n",
    "    pd.concat(grouped_y_train[i])\n",
    "# print(grouped_y_train)"
   ],
   "metadata": {
    "collapsed": false,
    "ExecuteTime": {
     "end_time": "2023-12-23T21:15:38.461314600Z",
     "start_time": "2023-12-23T21:15:38.379053400Z"
    }
   },
   "id": "400991c0b9046405"
  },
  {
   "cell_type": "code",
   "execution_count": 1726,
   "outputs": [],
   "source": [
    "for i in range(len(X_train)):\n",
    "    ip = X_train[i]\n",
    "    session_logs = y_train[i]\n",
    "    # print(ip)\n",
    "    markov_models[ip] = create_markov_model(session_logs)"
   ],
   "metadata": {
    "collapsed": false,
    "ExecuteTime": {
     "end_time": "2023-12-23T21:15:38.650095500Z",
     "start_time": "2023-12-23T21:15:38.427702200Z"
    }
   },
   "id": "6320605d29fdc382"
  },
  {
   "cell_type": "code",
   "execution_count": 1727,
   "outputs": [
    {
     "name": "stdout",
     "output_type": "stream",
     "text": [
      "7\n"
     ]
    },
    {
     "data": {
      "text/plain": "[['172.31.4.127', 13],\n ['172.31.4.102', 10],\n ['172.17.53.23', 0],\n ['172.26.3.200', 4],\n ['172.31.4.102', 8],\n ['172.31.4.195', 23],\n ['172.31.4.195', 22]]"
     },
     "execution_count": 1727,
     "metadata": {},
     "output_type": "execute_result"
    }
   ],
   "source": [
    "print(len(X_test))\n",
    "X_test"
   ],
   "metadata": {
    "collapsed": false,
    "ExecuteTime": {
     "end_time": "2023-12-23T21:15:38.666770800Z",
     "start_time": "2023-12-23T21:15:38.655628800Z"
    }
   },
   "id": "8dfa27a87b9e4986"
  },
  {
   "cell_type": "code",
   "execution_count": 1728,
   "outputs": [
    {
     "name": "stdout",
     "output_type": "stream",
     "text": [
      "172.31.4.127 13\n",
      "9 ['GET /scan_p/bhuvanNTL/getStats.php?state=INDIA', 'GET /scan_p/bhuvanNTL/getFloodData.php', 'GET /scan_p/bhuvanNTL/getFloodData.php', 'GET /scan_p/bhuvanNTL/getStates.php', 'GET /scan_p/bhuvanNTL/getDistricts.php?statename=DELHI', 'GET /scan_p/bhuvanNTL/state_centroid.php?state=DELHI', 'GET /scan_p/bhuvanNTL/geometryState.php?state=DELHI', 'GET /scan_p/bhuvanNTL/indiageometry.php', 'GET /scan_p/bhuvanNTL/getStats.php?state=INDIA']\n",
      "9 ['GET /scan_p/bhuvanNTL/getStats.php?state=INDIA', 'GET /scan_p/bhuvanNTL/getFloodData.php', 'GET /scan_p/bhuvanNTL/getFloodData.php', 'GET /scan_p/bhuvanNTL/getStates.php', 'GET /scan_p/bhuvanNTL/getDistricts.php?statename=DELHI', 'GET /scan_p/bhuvanNTL/state_centroid.php?state=DELHI', 'GET /scan_p/bhuvanNTL/geometryState.php?state=DELHI', 'GET /scan_p/bhuvanNTL/indiageometry.php', 'GET /scan_p/bhuvanNTL/getStats.php?state=INDIA', 'GET /scan_p/bhuvanNTL/geometryState.php']\n",
      "9 ['GET /scan_p/bhuvanNTL/getStats.php?state=INDIA', 'GET /scan_p/bhuvanNTL/getFloodData.php', 'GET /scan_p/bhuvanNTL/getFloodData.php', 'GET /scan_p/bhuvanNTL/getStates.php', 'GET /scan_p/bhuvanNTL/getDistricts.php?statename=DELHI', 'GET /scan_p/bhuvanNTL/state_centroid.php?state=DELHI', 'GET /scan_p/bhuvanNTL/geometryState.php?state=DELHI', 'GET /scan_p/bhuvanNTL/indiageometry.php', 'GET /scan_p/bhuvanNTL/getStats.php?state=INDIA', 'GET /scan_p/bhuvanNTL/geometryState.php', 'GET /scan_p/bhuvanNTL/geometryState.php?state=DELHI']\n",
      "9 ['GET /scan_p/bhuvanNTL/getStats.php?state=INDIA', 'GET /scan_p/bhuvanNTL/getFloodData.php', 'GET /scan_p/bhuvanNTL/getFloodData.php', 'GET /scan_p/bhuvanNTL/getStates.php', 'GET /scan_p/bhuvanNTL/getDistricts.php?statename=DELHI', 'GET /scan_p/bhuvanNTL/state_centroid.php?state=DELHI', 'GET /scan_p/bhuvanNTL/geometryState.php?state=DELHI', 'GET /scan_p/bhuvanNTL/indiageometry.php', 'GET /scan_p/bhuvanNTL/getStats.php?state=INDIA', 'GET /scan_p/bhuvanNTL/geometryState.php', 'GET /scan_p/bhuvanNTL/geometryState.php?state=DELHI', 'GET /scan_p/bhuvanNTL/geometryState.php']\n",
      "9 ['GET /scan_p/bhuvanNTL/getStats.php?state=INDIA', 'GET /scan_p/bhuvanNTL/getFloodData.php', 'GET /scan_p/bhuvanNTL/getFloodData.php', 'GET /scan_p/bhuvanNTL/getStates.php', 'GET /scan_p/bhuvanNTL/getDistricts.php?statename=DELHI', 'GET /scan_p/bhuvanNTL/state_centroid.php?state=DELHI', 'GET /scan_p/bhuvanNTL/geometryState.php?state=DELHI', 'GET /scan_p/bhuvanNTL/indiageometry.php', 'GET /scan_p/bhuvanNTL/getStats.php?state=INDIA', 'GET /scan_p/bhuvanNTL/geometryState.php', 'GET /scan_p/bhuvanNTL/geometryState.php?state=DELHI', 'GET /scan_p/bhuvanNTL/geometryState.php', 'GET /scan_p/bhuvanNTL/geometryState.php?state=DELHI']\n",
      "9 ['GET /scan_p/bhuvanNTL/getStats.php?state=INDIA', 'GET /scan_p/bhuvanNTL/getFloodData.php', 'GET /scan_p/bhuvanNTL/getFloodData.php', 'GET /scan_p/bhuvanNTL/getStates.php', 'GET /scan_p/bhuvanNTL/getDistricts.php?statename=DELHI', 'GET /scan_p/bhuvanNTL/state_centroid.php?state=DELHI', 'GET /scan_p/bhuvanNTL/geometryState.php?state=DELHI', 'GET /scan_p/bhuvanNTL/indiageometry.php', 'GET /scan_p/bhuvanNTL/getStats.php?state=INDIA', 'GET /scan_p/bhuvanNTL/geometryState.php', 'GET /scan_p/bhuvanNTL/geometryState.php?state=DELHI', 'GET /scan_p/bhuvanNTL/geometryState.php', 'GET /scan_p/bhuvanNTL/geometryState.php?state=DELHI', 'GET /scan_p/bhuvanNTL/indiageometry.php']\n",
      "[0, 0, 0, 0, 0, 0]\n",
      "0.0\n",
      "172.31.4.102 10\n",
      "1 ['POST /nird_dashboard/dashboard_index.php']\n",
      "[0]\n",
      "0.0\n",
      "172.17.53.23 0\n",
      "172.26.3.200 4\n",
      "17 ['GET /rbi/', 'GET /rbi/', 'GET /anganwadi/', 'GET /rbi', 'GET /rbi/', 'GET /rbi/', 'GET /anganwadi/', 'GET /rbi', 'GET /rbi/', 'GET /rbi/', 'GET /anganwadi/', 'GET /rbi', 'GET /rbi/', 'GET /rbi/', 'GET /anganwadi/', 'GET /rbi', 'GET /rbi/']\n",
      "17 ['GET /rbi/', 'GET /rbi/', 'GET /anganwadi/', 'GET /rbi', 'GET /rbi/', 'GET /rbi/', 'GET /anganwadi/', 'GET /rbi', 'GET /rbi/', 'GET /rbi/', 'GET /anganwadi/', 'GET /rbi', 'GET /rbi/', 'GET /rbi/', 'GET /anganwadi/', 'GET /rbi', 'GET /rbi/', 'GET /rbi/']\n",
      "17 ['GET /rbi/', 'GET /rbi/', 'GET /anganwadi/', 'GET /rbi', 'GET /rbi/', 'GET /rbi/', 'GET /anganwadi/', 'GET /rbi', 'GET /rbi/', 'GET /rbi/', 'GET /anganwadi/', 'GET /rbi', 'GET /rbi/', 'GET /rbi/', 'GET /anganwadi/', 'GET /rbi', 'GET /rbi/', 'GET /rbi/', 'GET /anganwadi/']\n",
      "17 ['GET /rbi/', 'GET /rbi/', 'GET /anganwadi/', 'GET /rbi', 'GET /rbi/', 'GET /rbi/', 'GET /anganwadi/', 'GET /rbi', 'GET /rbi/', 'GET /rbi/', 'GET /anganwadi/', 'GET /rbi', 'GET /rbi/', 'GET /rbi/', 'GET /anganwadi/', 'GET /rbi', 'GET /rbi/', 'GET /rbi/', 'GET /anganwadi/', 'GET /rbi']\n",
      "17 ['GET /rbi/', 'GET /rbi/', 'GET /anganwadi/', 'GET /rbi', 'GET /rbi/', 'GET /rbi/', 'GET /anganwadi/', 'GET /rbi', 'GET /rbi/', 'GET /rbi/', 'GET /anganwadi/', 'GET /rbi', 'GET /rbi/', 'GET /rbi/', 'GET /anganwadi/', 'GET /rbi', 'GET /rbi/', 'GET /rbi/', 'GET /anganwadi/', 'GET /rbi', 'GET /rbi/']\n",
      "17 ['GET /rbi/', 'GET /rbi/', 'GET /anganwadi/', 'GET /rbi', 'GET /rbi/', 'GET /rbi/', 'GET /anganwadi/', 'GET /rbi', 'GET /rbi/', 'GET /rbi/', 'GET /anganwadi/', 'GET /rbi', 'GET /rbi/', 'GET /rbi/', 'GET /anganwadi/', 'GET /rbi', 'GET /rbi/', 'GET /rbi/', 'GET /anganwadi/', 'GET /rbi', 'GET /rbi/', 'GET /rbi/']\n",
      "17 ['GET /rbi/', 'GET /rbi/', 'GET /anganwadi/', 'GET /rbi', 'GET /rbi/', 'GET /rbi/', 'GET /anganwadi/', 'GET /rbi', 'GET /rbi/', 'GET /rbi/', 'GET /anganwadi/', 'GET /rbi', 'GET /rbi/', 'GET /rbi/', 'GET /anganwadi/', 'GET /rbi', 'GET /rbi/', 'GET /rbi/', 'GET /anganwadi/', 'GET /rbi', 'GET /rbi/', 'GET /rbi/', 'GET /anganwadi/']\n",
      "17 ['GET /rbi/', 'GET /rbi/', 'GET /anganwadi/', 'GET /rbi', 'GET /rbi/', 'GET /rbi/', 'GET /anganwadi/', 'GET /rbi', 'GET /rbi/', 'GET /rbi/', 'GET /anganwadi/', 'GET /rbi', 'GET /rbi/', 'GET /rbi/', 'GET /anganwadi/', 'GET /rbi', 'GET /rbi/', 'GET /rbi/', 'GET /anganwadi/', 'GET /rbi', 'GET /rbi/', 'GET /rbi/', 'GET /anganwadi/', 'GET /rbi']\n",
      "17 ['GET /rbi/', 'GET /rbi/', 'GET /anganwadi/', 'GET /rbi', 'GET /rbi/', 'GET /rbi/', 'GET /anganwadi/', 'GET /rbi', 'GET /rbi/', 'GET /rbi/', 'GET /anganwadi/', 'GET /rbi', 'GET /rbi/', 'GET /rbi/', 'GET /anganwadi/', 'GET /rbi', 'GET /rbi/', 'GET /rbi/', 'GET /anganwadi/', 'GET /rbi', 'GET /rbi/', 'GET /rbi/', 'GET /anganwadi/', 'GET /rbi', 'GET /rbi/']\n",
      "17 ['GET /rbi/', 'GET /rbi/', 'GET /anganwadi/', 'GET /rbi', 'GET /rbi/', 'GET /rbi/', 'GET /anganwadi/', 'GET /rbi', 'GET /rbi/', 'GET /rbi/', 'GET /anganwadi/', 'GET /rbi', 'GET /rbi/', 'GET /rbi/', 'GET /anganwadi/', 'GET /rbi', 'GET /rbi/', 'GET /rbi/', 'GET /anganwadi/', 'GET /rbi', 'GET /rbi/', 'GET /rbi/', 'GET /anganwadi/', 'GET /rbi', 'GET /rbi/', 'GET /rbi/']\n",
      "17 ['GET /rbi/', 'GET /rbi/', 'GET /anganwadi/', 'GET /rbi', 'GET /rbi/', 'GET /rbi/', 'GET /anganwadi/', 'GET /rbi', 'GET /rbi/', 'GET /rbi/', 'GET /anganwadi/', 'GET /rbi', 'GET /rbi/', 'GET /rbi/', 'GET /anganwadi/', 'GET /rbi', 'GET /rbi/', 'GET /rbi/', 'GET /anganwadi/', 'GET /rbi', 'GET /rbi/', 'GET /rbi/', 'GET /anganwadi/', 'GET /rbi', 'GET /rbi/', 'GET /rbi/', 'GET /anganwadi/']\n",
      "17 ['GET /rbi/', 'GET /rbi/', 'GET /anganwadi/', 'GET /rbi', 'GET /rbi/', 'GET /rbi/', 'GET /anganwadi/', 'GET /rbi', 'GET /rbi/', 'GET /rbi/', 'GET /anganwadi/', 'GET /rbi', 'GET /rbi/', 'GET /rbi/', 'GET /anganwadi/', 'GET /rbi', 'GET /rbi/', 'GET /rbi/', 'GET /anganwadi/', 'GET /rbi', 'GET /rbi/', 'GET /rbi/', 'GET /anganwadi/', 'GET /rbi', 'GET /rbi/', 'GET /rbi/', 'GET /anganwadi/', 'GET /rbi']\n",
      "17 ['GET /rbi/', 'GET /rbi/', 'GET /anganwadi/', 'GET /rbi', 'GET /rbi/', 'GET /rbi/', 'GET /anganwadi/', 'GET /rbi', 'GET /rbi/', 'GET /rbi/', 'GET /anganwadi/', 'GET /rbi', 'GET /rbi/', 'GET /rbi/', 'GET /anganwadi/', 'GET /rbi', 'GET /rbi/', 'GET /rbi/', 'GET /anganwadi/', 'GET /rbi', 'GET /rbi/', 'GET /rbi/', 'GET /anganwadi/', 'GET /rbi', 'GET /rbi/', 'GET /rbi/', 'GET /anganwadi/', 'GET /rbi', 'GET /rbi/']\n",
      "17 ['GET /rbi/', 'GET /rbi/', 'GET /anganwadi/', 'GET /rbi', 'GET /rbi/', 'GET /rbi/', 'GET /anganwadi/', 'GET /rbi', 'GET /rbi/', 'GET /rbi/', 'GET /anganwadi/', 'GET /rbi', 'GET /rbi/', 'GET /rbi/', 'GET /anganwadi/', 'GET /rbi', 'GET /rbi/', 'GET /rbi/', 'GET /anganwadi/', 'GET /rbi', 'GET /rbi/', 'GET /rbi/', 'GET /anganwadi/', 'GET /rbi', 'GET /rbi/', 'GET /rbi/', 'GET /anganwadi/', 'GET /rbi', 'GET /rbi/', 'GET /rbi/']\n",
      "17 ['GET /rbi/', 'GET /rbi/', 'GET /anganwadi/', 'GET /rbi', 'GET /rbi/', 'GET /rbi/', 'GET /anganwadi/', 'GET /rbi', 'GET /rbi/', 'GET /rbi/', 'GET /anganwadi/', 'GET /rbi', 'GET /rbi/', 'GET /rbi/', 'GET /anganwadi/', 'GET /rbi', 'GET /rbi/', 'GET /rbi/', 'GET /anganwadi/', 'GET /rbi', 'GET /rbi/', 'GET /rbi/', 'GET /anganwadi/', 'GET /rbi', 'GET /rbi/', 'GET /rbi/', 'GET /anganwadi/', 'GET /rbi', 'GET /rbi/', 'GET /rbi/', 'GET /anganwadi/']\n",
      "17 ['GET /rbi/', 'GET /rbi/', 'GET /anganwadi/', 'GET /rbi', 'GET /rbi/', 'GET /rbi/', 'GET /anganwadi/', 'GET /rbi', 'GET /rbi/', 'GET /rbi/', 'GET /anganwadi/', 'GET /rbi', 'GET /rbi/', 'GET /rbi/', 'GET /anganwadi/', 'GET /rbi', 'GET /rbi/', 'GET /rbi/', 'GET /anganwadi/', 'GET /rbi', 'GET /rbi/', 'GET /rbi/', 'GET /anganwadi/', 'GET /rbi', 'GET /rbi/', 'GET /rbi/', 'GET /anganwadi/', 'GET /rbi', 'GET /rbi/', 'GET /rbi/', 'GET /anganwadi/', 'GET /rbi']\n",
      "17 ['GET /rbi/', 'GET /rbi/', 'GET /anganwadi/', 'GET /rbi', 'GET /rbi/', 'GET /rbi/', 'GET /anganwadi/', 'GET /rbi', 'GET /rbi/', 'GET /rbi/', 'GET /anganwadi/', 'GET /rbi', 'GET /rbi/', 'GET /rbi/', 'GET /anganwadi/', 'GET /rbi', 'GET /rbi/', 'GET /rbi/', 'GET /anganwadi/', 'GET /rbi', 'GET /rbi/', 'GET /rbi/', 'GET /anganwadi/', 'GET /rbi', 'GET /rbi/', 'GET /rbi/', 'GET /anganwadi/', 'GET /rbi', 'GET /rbi/', 'GET /rbi/', 'GET /anganwadi/', 'GET /rbi', 'GET /rbi/']\n",
      "17 ['GET /rbi/', 'GET /rbi/', 'GET /anganwadi/', 'GET /rbi', 'GET /rbi/', 'GET /rbi/', 'GET /anganwadi/', 'GET /rbi', 'GET /rbi/', 'GET /rbi/', 'GET /anganwadi/', 'GET /rbi', 'GET /rbi/', 'GET /rbi/', 'GET /anganwadi/', 'GET /rbi', 'GET /rbi/', 'GET /rbi/', 'GET /anganwadi/', 'GET /rbi', 'GET /rbi/', 'GET /rbi/', 'GET /anganwadi/', 'GET /rbi', 'GET /rbi/', 'GET /rbi/', 'GET /anganwadi/', 'GET /rbi', 'GET /rbi/', 'GET /rbi/', 'GET /anganwadi/', 'GET /rbi', 'GET /rbi/', 'GET /rbi/']\n",
      "[0, 0, 0, 0, 0, 0, 0, 0, 0, 0, 0, 0, 0, 0, 0, 0, 0, 0]\n",
      "0.0\n",
      "172.31.4.102 8\n",
      "1 ['POST /nird_dashboard/dashboard_index.php']\n",
      "[0]\n",
      "0.0\n",
      "172.31.4.195 23\n",
      "7 ['GET /twris/geoportal/usertasks/twris/layers.php', 'GET /bhutanportal/Bhutan_Report_2023.pdf', 'GET /bhutanforest/favicon.ico', 'POST /datadownload/php/get_districts.php?state_code=10', 'POST /datadownload/php/post_request_data.php?requestid=50113', 'POST /datadownload/php/get_userauth.php?user=manu456', 'POST /datadownload/php/get_data_requests.php?user=manu456&role=']\n",
      "7 ['GET /twris/geoportal/usertasks/twris/layers.php', 'GET /bhutanportal/Bhutan_Report_2023.pdf', 'GET /bhutanforest/favicon.ico', 'POST /datadownload/php/get_districts.php?state_code=10', 'POST /datadownload/php/post_request_data.php?requestid=50113', 'POST /datadownload/php/get_userauth.php?user=manu456', 'POST /datadownload/php/get_data_requests.php?user=manu456&role=', 'POST /datadownload/php/get_data_requests.php?user=manu456&role=']\n",
      "7 ['GET /twris/geoportal/usertasks/twris/layers.php', 'GET /bhutanportal/Bhutan_Report_2023.pdf', 'GET /bhutanforest/favicon.ico', 'POST /datadownload/php/get_districts.php?state_code=10', 'POST /datadownload/php/post_request_data.php?requestid=50113', 'POST /datadownload/php/get_userauth.php?user=manu456', 'POST /datadownload/php/get_data_requests.php?user=manu456&role=', 'POST /datadownload/php/get_data_requests.php?user=manu456&role=', 'POST /datadownload/php/get_userauth.php?user=manu456']\n",
      "7 ['GET /twris/geoportal/usertasks/twris/layers.php', 'GET /bhutanportal/Bhutan_Report_2023.pdf', 'GET /bhutanforest/favicon.ico', 'POST /datadownload/php/get_districts.php?state_code=10', 'POST /datadownload/php/post_request_data.php?requestid=50113', 'POST /datadownload/php/get_userauth.php?user=manu456', 'POST /datadownload/php/get_data_requests.php?user=manu456&role=', 'POST /datadownload/php/get_data_requests.php?user=manu456&role=', 'POST /datadownload/php/get_userauth.php?user=manu456', 'POST /datadownload/php/get_data_requests.php?user=manu456&role=admin']\n",
      "7 ['GET /twris/geoportal/usertasks/twris/layers.php', 'GET /bhutanportal/Bhutan_Report_2023.pdf', 'GET /bhutanforest/favicon.ico', 'POST /datadownload/php/get_districts.php?state_code=10', 'POST /datadownload/php/post_request_data.php?requestid=50113', 'POST /datadownload/php/get_userauth.php?user=manu456', 'POST /datadownload/php/get_data_requests.php?user=manu456&role=', 'POST /datadownload/php/get_data_requests.php?user=manu456&role=', 'POST /datadownload/php/get_userauth.php?user=manu456', 'POST /datadownload/php/get_data_requests.php?user=manu456&role=admin', 'GET /datadownload/php/get_request_data.php?requestid=50113']\n",
      "7 ['GET /twris/geoportal/usertasks/twris/layers.php', 'GET /bhutanportal/Bhutan_Report_2023.pdf', 'GET /bhutanforest/favicon.ico', 'POST /datadownload/php/get_districts.php?state_code=10', 'POST /datadownload/php/post_request_data.php?requestid=50113', 'POST /datadownload/php/get_userauth.php?user=manu456', 'POST /datadownload/php/get_data_requests.php?user=manu456&role=', 'POST /datadownload/php/get_data_requests.php?user=manu456&role=', 'POST /datadownload/php/get_userauth.php?user=manu456', 'POST /datadownload/php/get_data_requests.php?user=manu456&role=admin', 'GET /datadownload/php/get_request_data.php?requestid=50113', 'GET /datadownload/php/getUserDetail.php?username=qwerty']\n",
      "7 ['GET /twris/geoportal/usertasks/twris/layers.php', 'GET /bhutanportal/Bhutan_Report_2023.pdf', 'GET /bhutanforest/favicon.ico', 'POST /datadownload/php/get_districts.php?state_code=10', 'POST /datadownload/php/post_request_data.php?requestid=50113', 'POST /datadownload/php/get_userauth.php?user=manu456', 'POST /datadownload/php/get_data_requests.php?user=manu456&role=', 'POST /datadownload/php/get_data_requests.php?user=manu456&role=', 'POST /datadownload/php/get_userauth.php?user=manu456', 'POST /datadownload/php/get_data_requests.php?user=manu456&role=admin', 'GET /datadownload/php/get_request_data.php?requestid=50113', 'GET /datadownload/php/getUserDetail.php?username=qwerty', 'POST /datadownload/php/get_states.php']\n",
      "[0, 0, 0, 0, 0, 0, 0]\n",
      "0.0\n",
      "172.31.4.195 22\n",
      "42 ['POST /datadownload/php/get_states.php', 'GET /datadownload/php/getUserDetail.php?username=qwerty', 'POST /datadownload/php/get_userauth.php?user=manu456', 'POST /datadownload/php/get_data_requests.php?user=manu456&role=admin', 'POST /datadownload/php/get_userauth.php?user=manu456', 'POST /datadownload/php/get_data_requests.php?user=manu456&role=admin', 'POST /datadownload/php/getLayerDataYears.php?theme=lulc50', 'POST /datadownload/php/get_districts.php?state_code=27', 'GET /datadownload/php/getUserDetail.php?username=qwerty', 'POST /datadownload/php/get_states.php', 'POST /datadownload/php/post_request_data.php?requestid=', 'POST /datadownload/php/get_userauth.php?user=manu456', 'POST /datadownload/php/get_data_requests.php?user=manu456&role=', 'POST /datadownload/php/get_data_requests.php?user=manu456&role=', 'POST /datadownload/php/get_userauth.php?user=manu456', 'POST /datadownload/php/get_data_requests.php?user=manu456&role=admin', 'GET /datadownload/php/get_request_data.php?requestid=50113', 'GET /datadownload/php/getUserDetail.php?username=qwerty', 'POST /datadownload/php/get_states.php', 'POST /datadownload/php/getLayerDataYears.php?theme=lulc50', 'GET /datadownload/php/get_request_data.php?requestid=50113', 'GET /datadownload/php/getUserDetail.php?username=qwerty', 'POST /datadownload/php/get_states.php', 'POST /datadownload/php/getLayerDataYears.php?theme=lulc50', 'POST /datadownload/php/get_districts.php?state_code=32', 'POST /datadownload/php/post_request_data.php?requestid=50113', 'POST /datadownload/php/get_userauth.php?user=manu456', 'POST /datadownload/php/get_data_requests.php?user=manu456&role=', 'POST /datadownload/php/get_data_requests.php?user=manu456&role=', 'POST /datadownload/php/get_userauth.php?user=manu456', 'POST /datadownload/php/get_data_requests.php?user=manu456&role=admin', 'GET /datadownload/php/getUserDetail.php?username=qwerty', 'GET /datadownload/php/get_request_data.php?requestid=50113', 'POST /datadownload/php/get_states.php', 'POST /datadownload/php/getLayerDataYears.php?theme=lulc50', 'GET /datadownload/php/getUserDetail.php?username=qwerty', 'GET /datadownload/php/get_request_data.php?requestid=50113', 'POST /datadownload/php/get_states.php', 'POST /datadownload/php/getLayerDataYears.php?theme=lulc50', 'GET /datadownload/php/get_request_data.php?requestid=50113', 'GET /datadownload/php/getUserDetail.php?username=qwerty', 'POST /datadownload/php/get_states.php']\n",
      "42 ['POST /datadownload/php/get_states.php', 'GET /datadownload/php/getUserDetail.php?username=qwerty', 'POST /datadownload/php/get_userauth.php?user=manu456', 'POST /datadownload/php/get_data_requests.php?user=manu456&role=admin', 'POST /datadownload/php/get_userauth.php?user=manu456', 'POST /datadownload/php/get_data_requests.php?user=manu456&role=admin', 'POST /datadownload/php/getLayerDataYears.php?theme=lulc50', 'POST /datadownload/php/get_districts.php?state_code=27', 'GET /datadownload/php/getUserDetail.php?username=qwerty', 'POST /datadownload/php/get_states.php', 'POST /datadownload/php/post_request_data.php?requestid=', 'POST /datadownload/php/get_userauth.php?user=manu456', 'POST /datadownload/php/get_data_requests.php?user=manu456&role=', 'POST /datadownload/php/get_data_requests.php?user=manu456&role=', 'POST /datadownload/php/get_userauth.php?user=manu456', 'POST /datadownload/php/get_data_requests.php?user=manu456&role=admin', 'GET /datadownload/php/get_request_data.php?requestid=50113', 'GET /datadownload/php/getUserDetail.php?username=qwerty', 'POST /datadownload/php/get_states.php', 'POST /datadownload/php/getLayerDataYears.php?theme=lulc50', 'GET /datadownload/php/get_request_data.php?requestid=50113', 'GET /datadownload/php/getUserDetail.php?username=qwerty', 'POST /datadownload/php/get_states.php', 'POST /datadownload/php/getLayerDataYears.php?theme=lulc50', 'POST /datadownload/php/get_districts.php?state_code=32', 'POST /datadownload/php/post_request_data.php?requestid=50113', 'POST /datadownload/php/get_userauth.php?user=manu456', 'POST /datadownload/php/get_data_requests.php?user=manu456&role=', 'POST /datadownload/php/get_data_requests.php?user=manu456&role=', 'POST /datadownload/php/get_userauth.php?user=manu456', 'POST /datadownload/php/get_data_requests.php?user=manu456&role=admin', 'GET /datadownload/php/getUserDetail.php?username=qwerty', 'GET /datadownload/php/get_request_data.php?requestid=50113', 'POST /datadownload/php/get_states.php', 'POST /datadownload/php/getLayerDataYears.php?theme=lulc50', 'GET /datadownload/php/getUserDetail.php?username=qwerty', 'GET /datadownload/php/get_request_data.php?requestid=50113', 'POST /datadownload/php/get_states.php', 'POST /datadownload/php/getLayerDataYears.php?theme=lulc50', 'GET /datadownload/php/get_request_data.php?requestid=50113', 'GET /datadownload/php/getUserDetail.php?username=qwerty', 'POST /datadownload/php/get_states.php', 'POST /datadownload/php/getLayerDataYears.php?theme=lulc50']\n",
      "[0, 0]\n",
      "0.0\n",
      "Overall accuracy is : 0.0\n"
     ]
    }
   ],
   "source": [
    "# Measure accuracy for each session in validation data\n",
    "total_sessions = 0\n",
    "total_correct_predictions = 0\n",
    "\n",
    "for i in range(len(X_test)):\n",
    "    ip = X_test[i][0]\n",
    "    session_id = X_test[i][1]\n",
    "    session_logs = y_test[i]\n",
    "    print(ip,session_id)\n",
    "    if ip in markov_models:\n",
    "        model = markov_models[ip]  # Get the trained Markov model for this session\n",
    "        accuracy = prediction_accuracy(session_logs, model)\n",
    "        print(accuracy)\n",
    "        total_sessions += 1\n",
    "        total_correct_predictions += accuracy\n",
    "\n",
    "# Calculate overall accuracy\n",
    "overall_accuracy = total_correct_predictions / total_sessions if total_sessions > 0 else 0\n",
    "\n",
    "# for ip, sessions in val_data.items():\n",
    "#     for session_id, session_logs in sessions.items():\n",
    "#         if ip in markov_models and session_id in markov_models[ip]:\n",
    "#             model = markov_models[ip][session_id]  # Get the trained Markov model for this session\n",
    "#             accuracy = split_session_and_measure_accuracy(session_logs, model)\n",
    "#             \n",
    "#             total_sessions += 1\n",
    "#             total_correct_predictions += accuracy\n",
    "\n",
    "# # for using after enumerating for ip\n",
    "# for ip in unique_ips:\n",
    "#     ip_sessions = logs_df[logs_df['ip_address'] == ip]\n",
    "#     for session_id, session_logs in ip_sessions.groupby('session_no.'):\n",
    "#         print(session_logs)\n",
    "#         markov_models[ip][session_id] = create_markov_model(session_logs)\n",
    "\n",
    "# {'ip_address' : [session[0] for session in session_id_list], \n",
    "#                                 'session_id' : [session[1] for session in session_id_list],\n",
    "#                                 'session_data':session_logs_list}\n",
    "print('Overall accuracy is :',overall_accuracy)"
   ],
   "metadata": {
    "collapsed": false,
    "ExecuteTime": {
     "end_time": "2023-12-23T21:15:38.731444500Z",
     "start_time": "2023-12-23T21:15:38.675577600Z"
    }
   },
   "id": "813bb8fc1b441adb"
  },
  {
   "cell_type": "code",
   "execution_count": 1685,
   "outputs": [],
   "source": [],
   "metadata": {
    "collapsed": false,
    "ExecuteTime": {
     "end_time": "2023-12-23T21:04:03.909879800Z",
     "start_time": "2023-12-23T21:04:03.903325300Z"
    }
   },
   "id": "1c007d32e0d24a7e"
  },
  {
   "cell_type": "code",
   "execution_count": null,
   "outputs": [],
   "source": [],
   "metadata": {
    "collapsed": false
   },
   "id": "4611d03a3cc26e5b"
  }
 ],
 "metadata": {
  "kernelspec": {
   "display_name": "Python 3 (ipykernel)",
   "language": "python",
   "name": "python3"
  },
  "language_info": {
   "codemirror_mode": {
    "name": "ipython",
    "version": 3
   },
   "file_extension": ".py",
   "mimetype": "text/x-python",
   "name": "python",
   "nbconvert_exporter": "python",
   "pygments_lexer": "ipython3",
   "version": "3.11.5"
  }
 },
 "nbformat": 4,
 "nbformat_minor": 5
}
